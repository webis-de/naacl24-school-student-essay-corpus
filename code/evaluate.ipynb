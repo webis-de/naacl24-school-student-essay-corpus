{
 "cells": [
  {
   "cell_type": "code",
   "execution_count": 1,
   "id": "2def309f-99f9-4a34-b06c-dfd3478a62f2",
   "metadata": {},
   "outputs": [],
   "source": [
    "import os\n",
    "import pandas as pd"
   ]
  },
  {
   "cell_type": "markdown",
   "id": "6b3ac52b-62d6-4313-90ba-ab2135d7e8cb",
   "metadata": {
    "tags": []
   },
   "source": [
    "# structure"
   ]
  },
  {
   "cell_type": "code",
   "execution_count": 2,
   "id": "da4e2f42-2bed-4abc-990a-68384002dc51",
   "metadata": {
    "scrolled": true,
    "tags": []
   },
   "outputs": [],
   "source": [
    "ma1 = pd.read_csv('hyperparam-tuning-results/structure-mdeberta-macro_l1.csv', index_col=0)\n",
    "ma2 = pd.read_csv('hyperparam-tuning-results/structure-mdeberta-macro_l2.csv', index_col=0)\n",
    "mi1 = pd.read_csv('hyperparam-tuning-results/structure-mdeberta-micro_l1.csv', index_col=0)\n",
    "mi2 = pd.read_csv('hyperparam-tuning-results/structure-mdeberta-micro_l2.csv', index_col=0)"
   ]
  },
  {
   "cell_type": "code",
   "execution_count": 3,
   "id": "e57c89d5-9540-4a8f-920f-ec0ddc857303",
   "metadata": {},
   "outputs": [
    {
     "data": {
      "text/plain": [
       "(5, 5, 5, 5)"
      ]
     },
     "execution_count": 3,
     "metadata": {},
     "output_type": "execute_result"
    }
   ],
   "source": [
    "len(ma1), len(ma2), len(mi1), len(mi2)"
   ]
  },
  {
   "cell_type": "code",
   "execution_count": 4,
   "id": "0f2955b9-a293-4633-991c-e629d776b04a",
   "metadata": {},
   "outputs": [
    {
     "data": {
      "text/plain": [
       "test_overall_accuracy    0.921668\n",
       "test_overall_f1          0.456324\n",
       "dtype: float64"
      ]
     },
     "execution_count": 4,
     "metadata": {},
     "output_type": "execute_result"
    }
   ],
   "source": [
    "ma1[['test_overall_accuracy', 'test_overall_f1']].mean()"
   ]
  },
  {
   "cell_type": "code",
   "execution_count": 5,
   "id": "138d512c-ac6e-4aca-ba7e-3a3a1185025c",
   "metadata": {},
   "outputs": [
    {
     "data": {
      "text/plain": [
       "test_overall_accuracy    0.856152\n",
       "test_overall_f1          0.287610\n",
       "dtype: float64"
      ]
     },
     "execution_count": 5,
     "metadata": {},
     "output_type": "execute_result"
    }
   ],
   "source": [
    "ma2[['test_overall_accuracy', 'test_overall_f1']].mean()"
   ]
  },
  {
   "cell_type": "code",
   "execution_count": 6,
   "id": "aef2f262-50f6-460a-b193-cab58631af00",
   "metadata": {},
   "outputs": [
    {
     "data": {
      "text/plain": [
       "test_overall_accuracy    0.664502\n",
       "test_overall_f1          0.205709\n",
       "dtype: float64"
      ]
     },
     "execution_count": 6,
     "metadata": {},
     "output_type": "execute_result"
    }
   ],
   "source": [
    "mi1[['test_overall_accuracy', 'test_overall_f1']].mean()"
   ]
  },
  {
   "cell_type": "code",
   "execution_count": 7,
   "id": "11fbff3d-ef6e-492f-85d4-72607c96a266",
   "metadata": {},
   "outputs": [
    {
     "data": {
      "text/plain": [
       "test_overall_accuracy    0.632854\n",
       "test_overall_f1          0.212358\n",
       "dtype: float64"
      ]
     },
     "execution_count": 7,
     "metadata": {},
     "output_type": "execute_result"
    }
   ],
   "source": [
    "mi2[['test_overall_accuracy', 'test_overall_f1']].mean()"
   ]
  },
  {
   "cell_type": "markdown",
   "id": "3a504e82-2e40-4030-baf6-ef062cd72d6a",
   "metadata": {},
   "source": [
    "## adapter"
   ]
  },
  {
   "cell_type": "code",
   "execution_count": 8,
   "id": "a8fc7a7b-1b07-4219-8eee-79e40d99319f",
   "metadata": {
    "scrolled": true,
    "tags": []
   },
   "outputs": [],
   "source": [
    "ama1 = pd.read_csv('hyperparam-tuning-results/structure-mdeberta-adapter-macro_l1.csv', index_col=0)\n",
    "ama2 = pd.read_csv('hyperparam-tuning-results/structure-mdeberta-adapter-macro_l2.csv', index_col=0)\n",
    "ami1 = pd.read_csv('hyperparam-tuning-results/structure-mdeberta-adapter-micro_l1.csv', index_col=0)\n",
    "ami2 = pd.read_csv('hyperparam-tuning-results/structure-mdeberta-adapter-micro_l2.csv', index_col=0)"
   ]
  },
  {
   "cell_type": "code",
   "execution_count": 9,
   "id": "584cc85d-3a12-4558-a7b8-69c2df0e647b",
   "metadata": {},
   "outputs": [
    {
     "data": {
      "text/plain": [
       "(5, 5, 5, 5)"
      ]
     },
     "execution_count": 9,
     "metadata": {},
     "output_type": "execute_result"
    }
   ],
   "source": [
    "len(ama1), len(ama2), len(ami1), len(ami2)"
   ]
  },
  {
   "cell_type": "code",
   "execution_count": 10,
   "id": "b4f9661c-d144-4c55-ab3a-f940945b879a",
   "metadata": {},
   "outputs": [
    {
     "data": {
      "text/plain": [
       "test_overall_accuracy    0.947732\n",
       "test_overall_f1          0.676351\n",
       "dtype: float64"
      ]
     },
     "execution_count": 10,
     "metadata": {},
     "output_type": "execute_result"
    }
   ],
   "source": [
    "ama1[['test_overall_accuracy', 'test_overall_f1']].mean()"
   ]
  },
  {
   "cell_type": "code",
   "execution_count": 11,
   "id": "abd46f75-0531-4111-86ae-bba56836799e",
   "metadata": {},
   "outputs": [
    {
     "data": {
      "text/plain": [
       "test_overall_accuracy    0.919337\n",
       "test_overall_f1          0.515307\n",
       "dtype: float64"
      ]
     },
     "execution_count": 11,
     "metadata": {},
     "output_type": "execute_result"
    }
   ],
   "source": [
    "ama2[['test_overall_accuracy', 'test_overall_f1']].mean()"
   ]
  },
  {
   "cell_type": "code",
   "execution_count": 12,
   "id": "c9930a35-c123-4f51-97d4-1d8b82474c67",
   "metadata": {},
   "outputs": [
    {
     "data": {
      "text/plain": [
       "test_overall_accuracy    0.763819\n",
       "test_overall_f1          0.489982\n",
       "dtype: float64"
      ]
     },
     "execution_count": 12,
     "metadata": {},
     "output_type": "execute_result"
    }
   ],
   "source": [
    "ami1[['test_overall_accuracy', 'test_overall_f1']].mean()"
   ]
  },
  {
   "cell_type": "code",
   "execution_count": 13,
   "id": "c32ff935-b9bd-4819-be03-0ca29c9ae0a5",
   "metadata": {},
   "outputs": [
    {
     "data": {
      "text/plain": [
       "test_overall_accuracy    0.729821\n",
       "test_overall_f1          0.455188\n",
       "dtype: float64"
      ]
     },
     "execution_count": 13,
     "metadata": {},
     "output_type": "execute_result"
    }
   ],
   "source": [
    "ami2[['test_overall_accuracy', 'test_overall_f1']].mean()"
   ]
  },
  {
   "cell_type": "markdown",
   "id": "d9a56150-5c4d-457d-8d06-b83bd7c291c2",
   "metadata": {
    "tags": []
   },
   "source": [
    "### select representative fold"
   ]
  },
  {
   "cell_type": "code",
   "execution_count": 14,
   "id": "3305b148-fc20-4c99-8944-c5b4c57779b3",
   "metadata": {},
   "outputs": [],
   "source": [
    "f1s = pd.DataFrame()"
   ]
  },
  {
   "cell_type": "code",
   "execution_count": 15,
   "id": "b552accb-dbcc-4ce5-a817-4163494692be",
   "metadata": {},
   "outputs": [],
   "source": [
    "f1s['ma1'] = ama1[['test_overall_f1']]\n",
    "f1s['ma2'] = ama2[['test_overall_f1']]\n",
    "f1s['mi1'] = ami1[['test_overall_f1']]\n",
    "f1s['mi2'] = ami2[['test_overall_f1']]"
   ]
  },
  {
   "cell_type": "code",
   "execution_count": 16,
   "id": "b6e68fe2-84ac-4684-8b65-5c1eddc72726",
   "metadata": {},
   "outputs": [
    {
     "data": {
      "text/html": [
       "<div>\n",
       "<style scoped>\n",
       "    .dataframe tbody tr th:only-of-type {\n",
       "        vertical-align: middle;\n",
       "    }\n",
       "\n",
       "    .dataframe tbody tr th {\n",
       "        vertical-align: top;\n",
       "    }\n",
       "\n",
       "    .dataframe thead th {\n",
       "        text-align: right;\n",
       "    }\n",
       "</style>\n",
       "<table border=\"1\" class=\"dataframe\">\n",
       "  <thead>\n",
       "    <tr style=\"text-align: right;\">\n",
       "      <th></th>\n",
       "      <th>ma1</th>\n",
       "      <th>ma2</th>\n",
       "      <th>mi1</th>\n",
       "      <th>mi2</th>\n",
       "    </tr>\n",
       "  </thead>\n",
       "  <tbody>\n",
       "    <tr>\n",
       "      <th>0</th>\n",
       "      <td>0.693642</td>\n",
       "      <td>0.512648</td>\n",
       "      <td>0.512753</td>\n",
       "      <td>0.479349</td>\n",
       "    </tr>\n",
       "    <tr>\n",
       "      <th>1</th>\n",
       "      <td>0.654545</td>\n",
       "      <td>0.546112</td>\n",
       "      <td>0.487609</td>\n",
       "      <td>0.428571</td>\n",
       "    </tr>\n",
       "    <tr>\n",
       "      <th>2</th>\n",
       "      <td>0.673854</td>\n",
       "      <td>0.509213</td>\n",
       "      <td>0.446782</td>\n",
       "      <td>0.438853</td>\n",
       "    </tr>\n",
       "    <tr>\n",
       "      <th>3</th>\n",
       "      <td>0.668493</td>\n",
       "      <td>0.493409</td>\n",
       "      <td>0.515406</td>\n",
       "      <td>0.465940</td>\n",
       "    </tr>\n",
       "    <tr>\n",
       "      <th>4</th>\n",
       "      <td>0.691218</td>\n",
       "      <td>0.515152</td>\n",
       "      <td>0.487360</td>\n",
       "      <td>0.463226</td>\n",
       "    </tr>\n",
       "  </tbody>\n",
       "</table>\n",
       "</div>"
      ],
      "text/plain": [
       "        ma1       ma2       mi1       mi2\n",
       "0  0.693642  0.512648  0.512753  0.479349\n",
       "1  0.654545  0.546112  0.487609  0.428571\n",
       "2  0.673854  0.509213  0.446782  0.438853\n",
       "3  0.668493  0.493409  0.515406  0.465940\n",
       "4  0.691218  0.515152  0.487360  0.463226"
      ]
     },
     "execution_count": 16,
     "metadata": {},
     "output_type": "execute_result"
    }
   ],
   "source": [
    "f1s"
   ]
  },
  {
   "cell_type": "code",
   "execution_count": 17,
   "id": "fbae98c1-0510-4ec4-bf97-e34bd2cc1dda",
   "metadata": {},
   "outputs": [
    {
     "data": {
      "text/plain": [
       "ma1    0.676351\n",
       "ma2    0.515307\n",
       "mi1    0.489982\n",
       "mi2    0.455188\n",
       "dtype: float64"
      ]
     },
     "execution_count": 17,
     "metadata": {},
     "output_type": "execute_result"
    }
   ],
   "source": [
    "f1s.mean()"
   ]
  },
  {
   "cell_type": "code",
   "execution_count": 18,
   "id": "390add53-61ee-4604-bc1b-7d463043fda4",
   "metadata": {},
   "outputs": [
    {
     "data": {
      "text/plain": [
       "0    0.017291\n",
       "1    0.021805\n",
       "2    0.002496\n",
       "3    0.007857\n",
       "4    0.014868\n",
       "Name: ma1, dtype: float64"
      ]
     },
     "execution_count": 18,
     "metadata": {},
     "output_type": "execute_result"
    }
   ],
   "source": [
    "abs(f1s['ma1'] - f1s['ma1'].mean()) # 2"
   ]
  },
  {
   "cell_type": "code",
   "execution_count": 19,
   "id": "9dd0de47-f0e8-47dd-a168-9510732cb4f9",
   "metadata": {},
   "outputs": [
    {
     "data": {
      "text/plain": [
       "0    0.002659\n",
       "1    0.030806\n",
       "2    0.006094\n",
       "3    0.021898\n",
       "4    0.000155\n",
       "Name: ma2, dtype: float64"
      ]
     },
     "execution_count": 19,
     "metadata": {},
     "output_type": "execute_result"
    }
   ],
   "source": [
    "abs(f1s['ma2'] - f1s['ma2'].mean()) # 4"
   ]
  },
  {
   "cell_type": "code",
   "execution_count": 20,
   "id": "0fc64da3-20bb-47ad-b11e-e7f42ed0086a",
   "metadata": {},
   "outputs": [
    {
     "data": {
      "text/plain": [
       "0    0.022771\n",
       "1    0.002373\n",
       "2    0.043200\n",
       "3    0.025424\n",
       "4    0.002622\n",
       "Name: mi1, dtype: float64"
      ]
     },
     "execution_count": 20,
     "metadata": {},
     "output_type": "execute_result"
    }
   ],
   "source": [
    "abs(f1s['mi1'] - f1s['mi1'].mean()) # 1 (4 is close)"
   ]
  },
  {
   "cell_type": "code",
   "execution_count": 21,
   "id": "b5ca4b34-f04b-4124-8c9b-1259dda4b903",
   "metadata": {},
   "outputs": [
    {
     "data": {
      "text/plain": [
       "0    0.024161\n",
       "1    0.026616\n",
       "2    0.016335\n",
       "3    0.010752\n",
       "4    0.008038\n",
       "Name: mi2, dtype: float64"
      ]
     },
     "execution_count": 21,
     "metadata": {},
     "output_type": "execute_result"
    }
   ],
   "source": [
    "abs(f1s['mi2'] - f1s['mi2'].mean()) # 4"
   ]
  },
  {
   "cell_type": "markdown",
   "id": "946ca963-80c6-4e0d-9802-66c9dc0a57b3",
   "metadata": {},
   "source": [
    "--> fold = 8 (row 4) is most respresentative across the dimensions"
   ]
  },
  {
   "cell_type": "markdown",
   "id": "3a740718-794a-4a36-8596-b431e787f3b3",
   "metadata": {
    "tags": []
   },
   "source": [
    "# quality"
   ]
  },
  {
   "cell_type": "code",
   "execution_count": 22,
   "id": "127ba123-9068-48f3-b795-984bb83ca0af",
   "metadata": {},
   "outputs": [],
   "source": [
    "textfunktion = pd.read_csv('hyperparam-tuning-results/quality-mdeberta-textfunktion.csv', index_col=0)\n",
    "inhaltliche_ausgestaltung = pd.read_csv('hyperparam-tuning-results/quality-mdeberta-inhaltliche_ausgestaltung.csv', index_col=0)\n",
    "textstruktur = pd.read_csv('hyperparam-tuning-results/quality-mdeberta-textstruktur.csv', index_col=0)\n",
    "sprachliche_ausgestaltung = pd.read_csv('hyperparam-tuning-results/quality-mdeberta-sprachliche_ausgestaltung.csv', index_col=0)\n",
    "gesamteindruck = pd.read_csv('hyperparam-tuning-results/quality-mdeberta-gesamteindruck.csv', index_col=0)"
   ]
  },
  {
   "cell_type": "code",
   "execution_count": 23,
   "id": "a9ab3517-1abc-4bff-9dc9-cbe6bfc56b24",
   "metadata": {},
   "outputs": [
    {
     "data": {
      "text/plain": [
       "(5, 5, 5, 5, 5)"
      ]
     },
     "execution_count": 23,
     "metadata": {},
     "output_type": "execute_result"
    }
   ],
   "source": [
    "len(textfunktion), len(inhaltliche_ausgestaltung), len(textstruktur), len(sprachliche_ausgestaltung), len(gesamteindruck)"
   ]
  },
  {
   "cell_type": "code",
   "execution_count": 24,
   "id": "8744e267-b510-494e-a74e-f922ca08203f",
   "metadata": {},
   "outputs": [
    {
     "data": {
      "text/plain": [
       "test_qwk    0.530306\n",
       "dtype: float64"
      ]
     },
     "execution_count": 24,
     "metadata": {},
     "output_type": "execute_result"
    }
   ],
   "source": [
    "textfunktion[['test_qwk']].mean()"
   ]
  },
  {
   "cell_type": "code",
   "execution_count": 25,
   "id": "48277ea1-02c0-4828-80ef-3254360bba3e",
   "metadata": {},
   "outputs": [
    {
     "data": {
      "text/plain": [
       "test_qwk    0.294719\n",
       "dtype: float64"
      ]
     },
     "execution_count": 25,
     "metadata": {},
     "output_type": "execute_result"
    }
   ],
   "source": [
    "inhaltliche_ausgestaltung[['test_qwk']].mean()"
   ]
  },
  {
   "cell_type": "code",
   "execution_count": 26,
   "id": "2d6bb93c-ee15-43bb-b0f9-d1c085af0c9f",
   "metadata": {},
   "outputs": [
    {
     "data": {
      "text/plain": [
       "test_qwk    0.512792\n",
       "dtype: float64"
      ]
     },
     "execution_count": 26,
     "metadata": {},
     "output_type": "execute_result"
    }
   ],
   "source": [
    "textstruktur[['test_qwk']].mean()"
   ]
  },
  {
   "cell_type": "code",
   "execution_count": 27,
   "id": "4f90362f-c46b-4c32-b1ac-6122682a9f5f",
   "metadata": {},
   "outputs": [
    {
     "data": {
      "text/plain": [
       "test_qwk    0.492092\n",
       "dtype: float64"
      ]
     },
     "execution_count": 27,
     "metadata": {},
     "output_type": "execute_result"
    }
   ],
   "source": [
    "sprachliche_ausgestaltung[['test_qwk']].mean()"
   ]
  },
  {
   "cell_type": "code",
   "execution_count": 28,
   "id": "ad44b0dc-8275-4e2b-97a5-92a8bc1ff2b1",
   "metadata": {},
   "outputs": [
    {
     "data": {
      "text/plain": [
       "test_qwk    0.615869\n",
       "dtype: float64"
      ]
     },
     "execution_count": 28,
     "metadata": {},
     "output_type": "execute_result"
    }
   ],
   "source": [
    "gesamteindruck[['test_qwk']].mean()"
   ]
  },
  {
   "cell_type": "code",
   "execution_count": 29,
   "id": "bdd15509-392c-43b5-bd5e-e06b18107db9",
   "metadata": {},
   "outputs": [
    {
     "data": {
      "text/plain": [
       "(test_qwk    0.068692\n",
       " dtype: float64,\n",
       " test_qwk    0.108741\n",
       " dtype: float64,\n",
       " test_qwk    0.043634\n",
       " dtype: float64,\n",
       " test_qwk    0.059088\n",
       " dtype: float64,\n",
       " test_qwk    0.039733\n",
       " dtype: float64)"
      ]
     },
     "execution_count": 29,
     "metadata": {},
     "output_type": "execute_result"
    }
   ],
   "source": [
    "# standard deviation\n",
    "textfunktion[['test_qwk']].std(), inhaltliche_ausgestaltung[['test_qwk']].std(), textstruktur[['test_qwk']].std(), sprachliche_ausgestaltung[['test_qwk']].std(), gesamteindruck[['test_qwk']].std(), "
   ]
  },
  {
   "cell_type": "markdown",
   "id": "f4cb777d-a26c-4096-951b-c7d7da63b141",
   "metadata": {},
   "source": [
    "## adapter"
   ]
  },
  {
   "cell_type": "code",
   "execution_count": 30,
   "id": "ee192cc6-3d41-4b53-9213-6b0164e5ae3d",
   "metadata": {},
   "outputs": [],
   "source": [
    "atextfunktion = pd.read_csv('hyperparam-tuning-results/quality-mdeberta-adapter-textfunktion.csv', index_col=0)\n",
    "ainhaltliche_ausgestaltung = pd.read_csv('hyperparam-tuning-results/quality-mdeberta-adapter-inhaltliche_ausgestaltung.csv', index_col=0)\n",
    "atextstruktur = pd.read_csv('hyperparam-tuning-results/quality-mdeberta-adapter-textstruktur.csv', index_col=0)\n",
    "asprachliche_ausgestaltung = pd.read_csv('hyperparam-tuning-results/quality-mdeberta-adapter-sprachliche_ausgestaltung.csv', index_col=0)\n",
    "agesamteindruck = pd.read_csv('hyperparam-tuning-results/quality-mdeberta-adapter-gesamteindruck.csv', index_col=0)"
   ]
  },
  {
   "cell_type": "code",
   "execution_count": 31,
   "id": "ed4fc01b-977f-4787-aaad-8a43a52bf4ae",
   "metadata": {},
   "outputs": [
    {
     "data": {
      "text/plain": [
       "(5, 5, 5, 5, 5)"
      ]
     },
     "execution_count": 31,
     "metadata": {},
     "output_type": "execute_result"
    }
   ],
   "source": [
    "len(atextfunktion), len(ainhaltliche_ausgestaltung), len(atextstruktur), len(asprachliche_ausgestaltung), len(agesamteindruck)"
   ]
  },
  {
   "cell_type": "code",
   "execution_count": 32,
   "id": "efd2fbe6-ec67-44b4-9627-2fa70046ddc1",
   "metadata": {},
   "outputs": [
    {
     "data": {
      "text/plain": [
       "test_qwk    0.564146\n",
       "dtype: float64"
      ]
     },
     "execution_count": 32,
     "metadata": {},
     "output_type": "execute_result"
    }
   ],
   "source": [
    "atextfunktion[['test_qwk']].mean()"
   ]
  },
  {
   "cell_type": "code",
   "execution_count": 33,
   "id": "ba9b32e4-089c-4386-8f17-ed48976894c3",
   "metadata": {},
   "outputs": [
    {
     "data": {
      "text/plain": [
       "test_qwk    0.430512\n",
       "dtype: float64"
      ]
     },
     "execution_count": 33,
     "metadata": {},
     "output_type": "execute_result"
    }
   ],
   "source": [
    "ainhaltliche_ausgestaltung[['test_qwk']].mean()"
   ]
  },
  {
   "cell_type": "code",
   "execution_count": 34,
   "id": "ed7d9ac1-4f0f-4a9e-882a-069b133f8534",
   "metadata": {},
   "outputs": [
    {
     "data": {
      "text/plain": [
       "test_qwk    0.575175\n",
       "dtype: float64"
      ]
     },
     "execution_count": 34,
     "metadata": {},
     "output_type": "execute_result"
    }
   ],
   "source": [
    "atextstruktur[['test_qwk']].mean()"
   ]
  },
  {
   "cell_type": "code",
   "execution_count": 35,
   "id": "ec1104ef-e4ff-4e40-8632-0815d0f25fb5",
   "metadata": {},
   "outputs": [
    {
     "data": {
      "text/plain": [
       "test_qwk    0.578677\n",
       "dtype: float64"
      ]
     },
     "execution_count": 35,
     "metadata": {},
     "output_type": "execute_result"
    }
   ],
   "source": [
    "asprachliche_ausgestaltung[['test_qwk']].mean()"
   ]
  },
  {
   "cell_type": "code",
   "execution_count": 36,
   "id": "02698b86-7c64-4874-8f67-69645204aad9",
   "metadata": {},
   "outputs": [
    {
     "data": {
      "text/plain": [
       "test_qwk    0.647826\n",
       "dtype: float64"
      ]
     },
     "execution_count": 36,
     "metadata": {},
     "output_type": "execute_result"
    }
   ],
   "source": [
    "agesamteindruck[['test_qwk']].mean()"
   ]
  },
  {
   "cell_type": "code",
   "execution_count": 37,
   "id": "ed28f762-cb54-48b4-81f4-edcef23862b3",
   "metadata": {},
   "outputs": [
    {
     "data": {
      "text/plain": [
       "(test_qwk    0.018057\n",
       " dtype: float64,\n",
       " test_qwk    0.097673\n",
       " dtype: float64,\n",
       " test_qwk    0.038412\n",
       " dtype: float64,\n",
       " test_qwk    0.077051\n",
       " dtype: float64,\n",
       " test_qwk    0.054022\n",
       " dtype: float64)"
      ]
     },
     "execution_count": 37,
     "metadata": {},
     "output_type": "execute_result"
    }
   ],
   "source": [
    "# standard deviation\n",
    "atextfunktion[['test_qwk']].std(), ainhaltliche_ausgestaltung[['test_qwk']].std(), atextstruktur[['test_qwk']].std(), asprachliche_ausgestaltung[['test_qwk']].std(), agesamteindruck[['test_qwk']].std(), "
   ]
  },
  {
   "cell_type": "markdown",
   "id": "d74cac87-aac9-474a-af5b-d8f26a359d6a",
   "metadata": {},
   "source": [
    "## fusion"
   ]
  },
  {
   "cell_type": "code",
   "execution_count": 38,
   "id": "e71cdac9-4e9a-45c0-9468-086331dd7e5c",
   "metadata": {
    "tags": []
   },
   "outputs": [],
   "source": [
    "ftextfunktion = pd.read_csv('hyperparam-tuning-results/quality-fusion-textfunktion.csv', index_col=0)\n",
    "finhaltliche_ausgestaltung = pd.read_csv('hyperparam-tuning-results/quality-fusion-inhaltliche_ausgestaltung.csv', index_col=0)\n",
    "ftextstruktur = pd.read_csv('hyperparam-tuning-results/quality-fusion-textstruktur.csv', index_col=0)\n",
    "fsprachliche_ausgestaltung = pd.read_csv('hyperparam-tuning-results/quality-fusion-sprachliche_ausgestaltung.csv', index_col=0)\n",
    "fgesamteindruck = pd.read_csv('hyperparam-tuning-results/quality-fusion-gesamteindruck.csv', index_col=0)"
   ]
  },
  {
   "cell_type": "code",
   "execution_count": 39,
   "id": "b99a61c2-63d4-451e-8bbb-69e86b84c06a",
   "metadata": {},
   "outputs": [
    {
     "data": {
      "text/plain": [
       "(5, 5, 5, 5, 5)"
      ]
     },
     "execution_count": 39,
     "metadata": {},
     "output_type": "execute_result"
    }
   ],
   "source": [
    "len(ftextfunktion), len(finhaltliche_ausgestaltung), len(ftextstruktur), len(fsprachliche_ausgestaltung), len(fgesamteindruck)"
   ]
  },
  {
   "cell_type": "code",
   "execution_count": 40,
   "id": "01f240b1-9f62-43d9-bf9d-a23773b4fa7a",
   "metadata": {},
   "outputs": [
    {
     "data": {
      "text/plain": [
       "(test_qwk    0.573783\n",
       " dtype: float64,\n",
       " test_qwk    0.453936\n",
       " dtype: float64,\n",
       " test_qwk    0.546286\n",
       " dtype: float64,\n",
       " test_qwk    0.616638\n",
       " dtype: float64,\n",
       " test_qwk    0.686388\n",
       " dtype: float64)"
      ]
     },
     "execution_count": 40,
     "metadata": {},
     "output_type": "execute_result"
    }
   ],
   "source": [
    "ftextfunktion[['test_qwk']].mean(), finhaltliche_ausgestaltung[['test_qwk']].mean(), ftextstruktur[['test_qwk']].mean(), fsprachliche_ausgestaltung[['test_qwk']].mean(), fgesamteindruck[['test_qwk']].mean()"
   ]
  },
  {
   "cell_type": "code",
   "execution_count": 41,
   "id": "9a0c5fde-5feb-42fc-9dad-1350d0606667",
   "metadata": {},
   "outputs": [
    {
     "data": {
      "text/plain": [
       "(test_qwk    0.038783\n",
       " dtype: float64,\n",
       " test_qwk    0.142215\n",
       " dtype: float64,\n",
       " test_qwk    0.01277\n",
       " dtype: float64,\n",
       " test_qwk    0.056503\n",
       " dtype: float64,\n",
       " test_qwk    0.031456\n",
       " dtype: float64)"
      ]
     },
     "execution_count": 41,
     "metadata": {},
     "output_type": "execute_result"
    }
   ],
   "source": [
    "# standard deviation\n",
    "ftextfunktion[['test_qwk']].std(), finhaltliche_ausgestaltung[['test_qwk']].std(), ftextstruktur[['test_qwk']].std(), fsprachliche_ausgestaltung[['test_qwk']].std(), fgesamteindruck[['test_qwk']].std()"
   ]
  },
  {
   "cell_type": "markdown",
   "id": "120ae9f1-4f75-4cf7-893f-6b51435dc9c1",
   "metadata": {
    "jp-MarkdownHeadingCollapsed": true,
    "tags": []
   },
   "source": [
    "### select representative fold"
   ]
  },
  {
   "cell_type": "code",
   "execution_count": 42,
   "id": "545cb552-ce6b-44fc-a357-d7d05f4ebdec",
   "metadata": {},
   "outputs": [
    {
     "data": {
      "text/plain": [
       "0    0.013881\n",
       "1    0.043547\n",
       "2    0.013984\n",
       "3    0.040807\n",
       "4    0.002843\n",
       "Name: test_qwk, dtype: float64"
      ]
     },
     "execution_count": 42,
     "metadata": {},
     "output_type": "execute_result"
    }
   ],
   "source": [
    "abs(fgesamteindruck['test_qwk'] - fgesamteindruck['test_qwk'].mean())"
   ]
  },
  {
   "cell_type": "code",
   "execution_count": 43,
   "id": "947bd9c1-a8ed-4d91-87d3-77008497e14f",
   "metadata": {},
   "outputs": [
    {
     "data": {
      "text/plain": [
       "0.0028429196943506874"
      ]
     },
     "execution_count": 43,
     "metadata": {},
     "output_type": "execute_result"
    }
   ],
   "source": [
    "abs(fgesamteindruck['test_qwk'] - fgesamteindruck['test_qwk'].mean()).min()"
   ]
  },
  {
   "cell_type": "markdown",
   "id": "9406891a-a62c-44cb-9c53-035bbbcb42a4",
   "metadata": {},
   "source": [
    "--> fold = 8 (row 4) is most respresentative"
   ]
  },
  {
   "cell_type": "markdown",
   "id": "842467f7-686c-48b1-9f38-8acaf2a288c1",
   "metadata": {},
   "source": [
    "## fusion-settings"
   ]
  },
  {
   "cell_type": "markdown",
   "id": "77422fca-ad6f-4652-9ea3-a0b12bc937ce",
   "metadata": {},
   "source": [
    "### macro"
   ]
  },
  {
   "cell_type": "code",
   "execution_count": 44,
   "id": "2dcafe31-42da-4da7-bc81-cd3cff82ccc9",
   "metadata": {
    "tags": []
   },
   "outputs": [],
   "source": [
    "fma_textfunktion = pd.read_csv('hyperparam-tuning-results/quality-fusion-textfunktion-macro.csv', index_col=0)\n",
    "fma_inhaltliche_ausgestaltung = pd.read_csv('hyperparam-tuning-results/quality-fusion-inhaltliche_ausgestaltung-macro.csv', index_col=0)\n",
    "fma_textstruktur = pd.read_csv('hyperparam-tuning-results/quality-fusion-textstruktur-macro.csv', index_col=0)\n",
    "fma_sprachliche_ausgestaltung = pd.read_csv('hyperparam-tuning-results/quality-fusion-sprachliche_ausgestaltung-macro.csv', index_col=0)\n",
    "fma_gesamteindruck = pd.read_csv('hyperparam-tuning-results/quality-fusion-gesamteindruck-macro.csv', index_col=0)"
   ]
  },
  {
   "cell_type": "code",
   "execution_count": 45,
   "id": "8192bf81-3602-4dea-9a57-ae775d98bd0c",
   "metadata": {},
   "outputs": [
    {
     "data": {
      "text/plain": [
       "(5, 5, 5, 5, 5)"
      ]
     },
     "execution_count": 45,
     "metadata": {},
     "output_type": "execute_result"
    }
   ],
   "source": [
    "len(fma_textfunktion), len(fma_inhaltliche_ausgestaltung), len(fma_textstruktur), len(fma_gesamteindruck), len(fma_sprachliche_ausgestaltung), "
   ]
  },
  {
   "cell_type": "code",
   "execution_count": 46,
   "id": "cf702d2e-612e-412d-a36f-2030b0811587",
   "metadata": {},
   "outputs": [
    {
     "data": {
      "text/plain": [
       "(test_qwk    0.58051\n",
       " dtype: float64,\n",
       " test_qwk    0.394842\n",
       " dtype: float64,\n",
       " test_qwk    0.538289\n",
       " dtype: float64,\n",
       " test_qwk    0.605179\n",
       " dtype: float64,\n",
       " test_qwk    0.630901\n",
       " dtype: float64)"
      ]
     },
     "execution_count": 46,
     "metadata": {},
     "output_type": "execute_result"
    }
   ],
   "source": [
    "fma_textfunktion[['test_qwk']].mean(), fma_inhaltliche_ausgestaltung[['test_qwk']].mean(), fma_textstruktur[['test_qwk']].mean(), fma_sprachliche_ausgestaltung[['test_qwk']].mean(), fma_gesamteindruck[['test_qwk']].mean()"
   ]
  },
  {
   "cell_type": "code",
   "execution_count": 47,
   "id": "164b0db4-07bc-4078-b5c7-f0be1159cefd",
   "metadata": {},
   "outputs": [
    {
     "data": {
      "text/plain": [
       "(test_qwk    0.027829\n",
       " dtype: float64,\n",
       " test_qwk    0.064319\n",
       " dtype: float64,\n",
       " test_qwk    0.030341\n",
       " dtype: float64,\n",
       " test_qwk    0.048638\n",
       " dtype: float64,\n",
       " test_qwk    0.040651\n",
       " dtype: float64)"
      ]
     },
     "execution_count": 47,
     "metadata": {},
     "output_type": "execute_result"
    }
   ],
   "source": [
    "fma_textfunktion[['test_qwk']].std(), fma_inhaltliche_ausgestaltung[['test_qwk']].std(), fma_textstruktur[['test_qwk']].std(), fma_sprachliche_ausgestaltung[['test_qwk']].std(), fma_gesamteindruck[['test_qwk']].std()"
   ]
  },
  {
   "cell_type": "markdown",
   "id": "a2a77d86-f402-4e55-979a-2f37f4393163",
   "metadata": {},
   "source": [
    "### micro"
   ]
  },
  {
   "cell_type": "code",
   "execution_count": 48,
   "id": "6abb7e61-6551-4395-927d-9e16b45e24e0",
   "metadata": {
    "tags": []
   },
   "outputs": [],
   "source": [
    "fmi_textfunktion = pd.read_csv('hyperparam-tuning-results/quality-fusion-textfunktion-micro.csv', index_col=0)\n",
    "fmi_inhaltliche_ausgestaltung = pd.read_csv('hyperparam-tuning-results/quality-fusion-inhaltliche_ausgestaltung-micro.csv', index_col=0)\n",
    "fmi_textstruktur = pd.read_csv('hyperparam-tuning-results/quality-fusion-textstruktur-micro.csv', index_col=0)\n",
    "fmi_sprachliche_ausgestaltung = pd.read_csv('hyperparam-tuning-results/quality-fusion-sprachliche_ausgestaltung-micro.csv', index_col=0)\n",
    "fmi_gesamteindruck = pd.read_csv('hyperparam-tuning-results/quality-fusion-gesamteindruck-micro.csv', index_col=0)"
   ]
  },
  {
   "cell_type": "code",
   "execution_count": 49,
   "id": "98a1524e-04a1-47a5-85b0-6302c384c279",
   "metadata": {},
   "outputs": [
    {
     "data": {
      "text/plain": [
       "(5, 5, 5, 5, 5)"
      ]
     },
     "execution_count": 49,
     "metadata": {},
     "output_type": "execute_result"
    }
   ],
   "source": [
    "len(fmi_textfunktion), len(fmi_inhaltliche_ausgestaltung), len(fmi_textstruktur), len(fmi_sprachliche_ausgestaltung), len(fmi_gesamteindruck)"
   ]
  },
  {
   "cell_type": "code",
   "execution_count": 50,
   "id": "3ad13401-df57-46ad-848e-aa1e6b192609",
   "metadata": {},
   "outputs": [
    {
     "data": {
      "text/plain": [
       "(test_qwk    0.565351\n",
       " dtype: float64,\n",
       " test_qwk    0.43931\n",
       " dtype: float64,\n",
       " test_qwk    0.531411\n",
       " dtype: float64,\n",
       " test_qwk    0.581981\n",
       " dtype: float64,\n",
       " test_qwk    0.655871\n",
       " dtype: float64)"
      ]
     },
     "execution_count": 50,
     "metadata": {},
     "output_type": "execute_result"
    }
   ],
   "source": [
    "fmi_textfunktion[['test_qwk']].mean(), fmi_inhaltliche_ausgestaltung[['test_qwk']].mean(), fmi_textstruktur[['test_qwk']].mean(), fmi_sprachliche_ausgestaltung[['test_qwk']].mean(), fmi_gesamteindruck[['test_qwk']].mean()"
   ]
  },
  {
   "cell_type": "code",
   "execution_count": 51,
   "id": "dcb400ce-4f57-46b0-b805-dfdacea50850",
   "metadata": {},
   "outputs": [
    {
     "data": {
      "text/plain": [
       "(test_qwk    0.039676\n",
       " dtype: float64,\n",
       " test_qwk    0.0869\n",
       " dtype: float64,\n",
       " test_qwk    0.036816\n",
       " dtype: float64,\n",
       " test_qwk    0.050676\n",
       " dtype: float64,\n",
       " test_qwk    0.022516\n",
       " dtype: float64)"
      ]
     },
     "execution_count": 51,
     "metadata": {},
     "output_type": "execute_result"
    }
   ],
   "source": [
    "fmi_textfunktion[['test_qwk']].std(), fmi_inhaltliche_ausgestaltung[['test_qwk']].std(), fmi_textstruktur[['test_qwk']].std(), fmi_sprachliche_ausgestaltung[['test_qwk']].std(), fmi_gesamteindruck[['test_qwk']].std()"
   ]
  },
  {
   "cell_type": "markdown",
   "id": "831ab033-986f-4760-bb45-d8178e4cd534",
   "metadata": {},
   "source": [
    "### macro_l1"
   ]
  },
  {
   "cell_type": "code",
   "execution_count": 52,
   "id": "8def6132-9047-45bb-90cb-3de7024817a0",
   "metadata": {
    "tags": []
   },
   "outputs": [],
   "source": [
    "fma1_textfunktion = pd.read_csv('hyperparam-tuning-results/quality-fusion-textfunktion-macro_l1.csv', index_col=0)\n",
    "fma1_inhaltliche_ausgestaltung = pd.read_csv('hyperparam-tuning-results/quality-fusion-inhaltliche_ausgestaltung-macro_l1.csv', index_col=0)\n",
    "fma1_textstruktur = pd.read_csv('hyperparam-tuning-results/quality-fusion-textstruktur-macro_l1.csv', index_col=0)\n",
    "fma1_sprachliche_ausgestaltung = pd.read_csv('hyperparam-tuning-results/quality-fusion-sprachliche_ausgestaltung-macro_l1.csv', index_col=0)\n",
    "fma1_gesamteindruck = pd.read_csv('hyperparam-tuning-results/quality-fusion-gesamteindruck-macro_l1.csv', index_col=0)"
   ]
  },
  {
   "cell_type": "code",
   "execution_count": 53,
   "id": "5c47c27b-6efc-408a-b616-2edce58aa2d5",
   "metadata": {},
   "outputs": [
    {
     "data": {
      "text/plain": [
       "(5, 5, 5, 5, 5)"
      ]
     },
     "execution_count": 53,
     "metadata": {},
     "output_type": "execute_result"
    }
   ],
   "source": [
    "len(fma1_textfunktion), len(fma1_inhaltliche_ausgestaltung), len(fma1_textstruktur), len(fma1_sprachliche_ausgestaltung), len(fma1_gesamteindruck)"
   ]
  },
  {
   "cell_type": "code",
   "execution_count": 54,
   "id": "abbf11b1-64a4-47f5-a75b-4e9f7ed025a2",
   "metadata": {},
   "outputs": [
    {
     "data": {
      "text/plain": [
       "(test_qwk    0.599351\n",
       " dtype: float64,\n",
       " test_qwk    0.380936\n",
       " dtype: float64,\n",
       " test_qwk    0.558888\n",
       " dtype: float64,\n",
       " test_qwk    0.569056\n",
       " dtype: float64,\n",
       " test_qwk    0.668478\n",
       " dtype: float64)"
      ]
     },
     "execution_count": 54,
     "metadata": {},
     "output_type": "execute_result"
    }
   ],
   "source": [
    "fma1_textfunktion[['test_qwk']].mean(), fma1_inhaltliche_ausgestaltung[['test_qwk']].mean(), fma1_textstruktur[['test_qwk']].mean(), fma1_sprachliche_ausgestaltung[['test_qwk']].mean(), fma1_gesamteindruck[['test_qwk']].mean()"
   ]
  },
  {
   "cell_type": "code",
   "execution_count": 55,
   "id": "3c846b43-3f28-4af7-8eb8-369276bcbc6f",
   "metadata": {},
   "outputs": [
    {
     "data": {
      "text/plain": [
       "(test_qwk    0.042927\n",
       " dtype: float64,\n",
       " test_qwk    0.133572\n",
       " dtype: float64,\n",
       " test_qwk    0.036433\n",
       " dtype: float64,\n",
       " test_qwk    0.069338\n",
       " dtype: float64,\n",
       " test_qwk    0.049335\n",
       " dtype: float64)"
      ]
     },
     "execution_count": 55,
     "metadata": {},
     "output_type": "execute_result"
    }
   ],
   "source": [
    "fma1_textfunktion[['test_qwk']].std(), fma1_inhaltliche_ausgestaltung[['test_qwk']].std(), fma1_textstruktur[['test_qwk']].std(), fma1_sprachliche_ausgestaltung[['test_qwk']].std(), fma1_gesamteindruck[['test_qwk']].std()"
   ]
  },
  {
   "cell_type": "markdown",
   "id": "7103c252-c613-4367-8435-7f920f7013ff",
   "metadata": {},
   "source": [
    "### macro_l2"
   ]
  },
  {
   "cell_type": "code",
   "execution_count": 56,
   "id": "949205dd-24b4-4320-9150-4a00d873c25b",
   "metadata": {
    "tags": []
   },
   "outputs": [],
   "source": [
    "fma2_textfunktion = pd.read_csv('hyperparam-tuning-results/quality-fusion-textfunktion-macro_l2.csv', index_col=0)\n",
    "fma2_inhaltliche_ausgestaltung = pd.read_csv('hyperparam-tuning-results/quality-fusion-inhaltliche_ausgestaltung-macro_l2.csv', index_col=0)\n",
    "fma2_textstruktur = pd.read_csv('hyperparam-tuning-results/quality-fusion-textstruktur-macro_l2.csv', index_col=0)\n",
    "fma2_sprachliche_ausgestaltung = pd.read_csv('hyperparam-tuning-results/quality-fusion-sprachliche_ausgestaltung-macro_l2.csv', index_col=0)\n",
    "fma2_gesamteindruck = pd.read_csv('hyperparam-tuning-results/quality-fusion-gesamteindruck-macro_l2.csv', index_col=0)"
   ]
  },
  {
   "cell_type": "code",
   "execution_count": 57,
   "id": "77757e76-493a-4485-a815-6c4a632b48e4",
   "metadata": {},
   "outputs": [
    {
     "data": {
      "text/plain": [
       "(5, 5, 5, 5, 5)"
      ]
     },
     "execution_count": 57,
     "metadata": {},
     "output_type": "execute_result"
    }
   ],
   "source": [
    "len(fma2_textfunktion), len(fma2_inhaltliche_ausgestaltung), len(fma2_textstruktur), len(fma2_sprachliche_ausgestaltung), len(fma2_gesamteindruck)"
   ]
  },
  {
   "cell_type": "code",
   "execution_count": 58,
   "id": "df65a9b1-5dc3-4493-8cd4-25275fd19d2b",
   "metadata": {},
   "outputs": [
    {
     "data": {
      "text/plain": [
       "(test_qwk    0.593291\n",
       " dtype: float64,\n",
       " test_qwk    0.448431\n",
       " dtype: float64,\n",
       " test_qwk    0.574785\n",
       " dtype: float64,\n",
       " test_qwk    0.58053\n",
       " dtype: float64,\n",
       " test_qwk    0.667674\n",
       " dtype: float64)"
      ]
     },
     "execution_count": 58,
     "metadata": {},
     "output_type": "execute_result"
    }
   ],
   "source": [
    "fma2_textfunktion[['test_qwk']].mean(), fma2_inhaltliche_ausgestaltung[['test_qwk']].mean(), fma2_textstruktur[['test_qwk']].mean(), fma2_sprachliche_ausgestaltung[['test_qwk']].mean(), fma2_gesamteindruck[['test_qwk']].mean()"
   ]
  },
  {
   "cell_type": "code",
   "execution_count": 59,
   "id": "29b82886-7259-47b4-82b9-f6752b8753ca",
   "metadata": {},
   "outputs": [
    {
     "data": {
      "text/plain": [
       "(test_qwk    0.029521\n",
       " dtype: float64,\n",
       " test_qwk    0.105049\n",
       " dtype: float64,\n",
       " test_qwk    0.018575\n",
       " dtype: float64,\n",
       " test_qwk    0.054265\n",
       " dtype: float64,\n",
       " test_qwk    0.035942\n",
       " dtype: float64)"
      ]
     },
     "execution_count": 59,
     "metadata": {},
     "output_type": "execute_result"
    }
   ],
   "source": [
    "fma2_textfunktion[['test_qwk']].std(), fma2_inhaltliche_ausgestaltung[['test_qwk']].std(), fma2_textstruktur[['test_qwk']].std(), fma2_sprachliche_ausgestaltung[['test_qwk']].std(), fma2_gesamteindruck[['test_qwk']].std()"
   ]
  },
  {
   "cell_type": "markdown",
   "id": "ff09340a-ae13-4bd1-9a6c-b65c396bc431",
   "metadata": {},
   "source": [
    "### micro_l1"
   ]
  },
  {
   "cell_type": "code",
   "execution_count": 60,
   "id": "b7383768-4871-4714-95a6-46f1e8bf745e",
   "metadata": {
    "tags": []
   },
   "outputs": [],
   "source": [
    "fmi1_textfunktion = pd.read_csv('hyperparam-tuning-results/quality-fusion-textfunktion-micro_l1.csv', index_col=0)\n",
    "fmi1_inhaltliche_ausgestaltung = pd.read_csv('hyperparam-tuning-results/quality-fusion-inhaltliche_ausgestaltung-micro_l1.csv', index_col=0)\n",
    "fmi1_textstruktur = pd.read_csv('hyperparam-tuning-results/quality-fusion-textstruktur-micro_l1.csv', index_col=0)\n",
    "fmi1_sprachliche_ausgestaltung = pd.read_csv('hyperparam-tuning-results/quality-fusion-sprachliche_ausgestaltung-micro_l1.csv', index_col=0)\n",
    "fmi1_gesamteindruck = pd.read_csv('hyperparam-tuning-results/quality-fusion-gesamteindruck-micro_l1.csv', index_col=0)"
   ]
  },
  {
   "cell_type": "code",
   "execution_count": 61,
   "id": "053e895f-77c9-460f-96e1-12bbc40d04af",
   "metadata": {},
   "outputs": [
    {
     "data": {
      "text/plain": [
       "(5, 5, 5, 5, 5)"
      ]
     },
     "execution_count": 61,
     "metadata": {},
     "output_type": "execute_result"
    }
   ],
   "source": [
    "len(fmi1_textfunktion), len(fmi1_inhaltliche_ausgestaltung), len(fmi1_textstruktur), len(fmi1_sprachliche_ausgestaltung), len(fmi1_gesamteindruck)"
   ]
  },
  {
   "cell_type": "code",
   "execution_count": 62,
   "id": "8a7b5b48-7a9e-4f3c-b4af-bd48124c6a4d",
   "metadata": {},
   "outputs": [
    {
     "data": {
      "text/plain": [
       "(test_qwk    0.600449\n",
       " dtype: float64,\n",
       " test_qwk    0.437232\n",
       " dtype: float64,\n",
       " test_qwk    0.543072\n",
       " dtype: float64,\n",
       " test_qwk    0.585315\n",
       " dtype: float64,\n",
       " test_qwk    0.663287\n",
       " dtype: float64)"
      ]
     },
     "execution_count": 62,
     "metadata": {},
     "output_type": "execute_result"
    }
   ],
   "source": [
    "fmi1_textfunktion[['test_qwk']].mean(), fmi1_inhaltliche_ausgestaltung[['test_qwk']].mean(), fmi1_textstruktur[['test_qwk']].mean(), fmi1_sprachliche_ausgestaltung[['test_qwk']].mean(), fmi1_gesamteindruck[['test_qwk']].mean()"
   ]
  },
  {
   "cell_type": "code",
   "execution_count": 63,
   "id": "2be7d99f-76b5-4397-87c5-6a0a3b7dd42c",
   "metadata": {},
   "outputs": [
    {
     "data": {
      "text/plain": [
       "(test_qwk    0.025258\n",
       " dtype: float64,\n",
       " test_qwk    0.136538\n",
       " dtype: float64,\n",
       " test_qwk    0.044065\n",
       " dtype: float64,\n",
       " test_qwk    0.053288\n",
       " dtype: float64,\n",
       " test_qwk    0.046205\n",
       " dtype: float64)"
      ]
     },
     "execution_count": 63,
     "metadata": {},
     "output_type": "execute_result"
    }
   ],
   "source": [
    "fmi1_textfunktion[['test_qwk']].std(), fmi1_inhaltliche_ausgestaltung[['test_qwk']].std(), fmi1_textstruktur[['test_qwk']].std(), fmi1_sprachliche_ausgestaltung[['test_qwk']].std(), fmi1_gesamteindruck[['test_qwk']].std()"
   ]
  },
  {
   "cell_type": "markdown",
   "id": "7f3599eb-cf2c-4129-9099-a26ec5a23105",
   "metadata": {},
   "source": [
    "### micro_l2"
   ]
  },
  {
   "cell_type": "code",
   "execution_count": 64,
   "id": "a82e9075-38b8-4f39-9d20-1d80b48e8df5",
   "metadata": {
    "tags": []
   },
   "outputs": [],
   "source": [
    "fmi2_textfunktion = pd.read_csv('hyperparam-tuning-results/quality-fusion-textfunktion-micro_l2.csv', index_col=0)\n",
    "fmi2_inhaltliche_ausgestaltung = pd.read_csv('hyperparam-tuning-results/quality-fusion-inhaltliche_ausgestaltung-micro_l2.csv', index_col=0)\n",
    "fmi2_textstruktur = pd.read_csv('hyperparam-tuning-results/quality-fusion-textstruktur-micro_l2.csv', index_col=0)\n",
    "fmi2_sprachliche_ausgestaltung = pd.read_csv('hyperparam-tuning-results/quality-fusion-sprachliche_ausgestaltung-micro_l2.csv', index_col=0)\n",
    "fmi2_gesamteindruck = pd.read_csv('hyperparam-tuning-results/quality-fusion-gesamteindruck-micro_l2.csv', index_col=0)"
   ]
  },
  {
   "cell_type": "code",
   "execution_count": 65,
   "id": "a7b9cf06-051e-4d85-a7ea-ba09194c9ae7",
   "metadata": {},
   "outputs": [
    {
     "data": {
      "text/plain": [
       "(5, 5, 5, 5, 5)"
      ]
     },
     "execution_count": 65,
     "metadata": {},
     "output_type": "execute_result"
    }
   ],
   "source": [
    "len(fmi2_textfunktion), len(fmi2_inhaltliche_ausgestaltung), len(fmi2_textstruktur), len(fmi2_sprachliche_ausgestaltung), len(fmi2_gesamteindruck)"
   ]
  },
  {
   "cell_type": "code",
   "execution_count": 66,
   "id": "009287ec-146b-4d46-8358-71d05ea2ff8c",
   "metadata": {},
   "outputs": [
    {
     "data": {
      "text/plain": [
       "(test_qwk    0.543686\n",
       " dtype: float64,\n",
       " test_qwk    0.419792\n",
       " dtype: float64,\n",
       " test_qwk    0.535106\n",
       " dtype: float64,\n",
       " test_qwk    0.583367\n",
       " dtype: float64,\n",
       " test_qwk    0.64455\n",
       " dtype: float64)"
      ]
     },
     "execution_count": 66,
     "metadata": {},
     "output_type": "execute_result"
    }
   ],
   "source": [
    "fmi2_textfunktion[['test_qwk']].mean(), fmi2_inhaltliche_ausgestaltung[['test_qwk']].mean(), fmi2_textstruktur[['test_qwk']].mean(), fmi2_sprachliche_ausgestaltung[['test_qwk']].mean(), fmi2_gesamteindruck[['test_qwk']].mean()"
   ]
  },
  {
   "cell_type": "code",
   "execution_count": 67,
   "id": "91f3ed30-4007-4054-ba25-b204b766ec54",
   "metadata": {},
   "outputs": [
    {
     "data": {
      "text/plain": [
       "(test_qwk    0.028197\n",
       " dtype: float64,\n",
       " test_qwk    0.117536\n",
       " dtype: float64,\n",
       " test_qwk    0.040793\n",
       " dtype: float64,\n",
       " test_qwk    0.064147\n",
       " dtype: float64,\n",
       " test_qwk    0.02339\n",
       " dtype: float64)"
      ]
     },
     "execution_count": 67,
     "metadata": {},
     "output_type": "execute_result"
    }
   ],
   "source": [
    "fmi2_textfunktion[['test_qwk']].std(), fmi2_inhaltliche_ausgestaltung[['test_qwk']].std(), fmi2_textstruktur[['test_qwk']].std(), fmi2_sprachliche_ausgestaltung[['test_qwk']].std(), fmi2_gesamteindruck[['test_qwk']].std()"
   ]
  },
  {
   "cell_type": "markdown",
   "id": "4b2be177-b198-4df5-b09b-579cf3a09297",
   "metadata": {},
   "source": [
    "## significance"
   ]
  },
  {
   "cell_type": "code",
   "execution_count": 68,
   "id": "d6601771-719c-44b9-8cd8-3d1c3b3bdb72",
   "metadata": {},
   "outputs": [],
   "source": [
    "from scipy.stats import wilcoxon"
   ]
  },
  {
   "cell_type": "markdown",
   "id": "5ae1eb5c-f835-46f9-aefa-edb1ebde5443",
   "metadata": {},
   "source": [
    "better than mDeBERTaV3-adapter"
   ]
  },
  {
   "cell_type": "code",
   "execution_count": 69,
   "id": "3a330d24-a72c-4271-8130-480e15595048",
   "metadata": {},
   "outputs": [
    {
     "name": "stdout",
     "output_type": "stream",
     "text": [
      "0.6004485291786701 0.03125\n"
     ]
    }
   ],
   "source": [
    "for df in [ftextfunktion, fma_textfunktion, fmi_textfunktion, fma1_textfunktion, fma2_textfunktion, fmi1_textfunktion, fmi2_textfunktion]:\n",
    "    if wilcoxon(list(atextfunktion['test_qwk']), list(df['test_qwk']), alternative='less').pvalue < 0.05:\n",
    "        print(df['test_qwk'].mean(), wilcoxon(list(atextfunktion['test_qwk']), list(df['test_qwk']), alternative='less').pvalue)"
   ]
  },
  {
   "cell_type": "code",
   "execution_count": 70,
   "id": "7ddb35ba-f676-474f-af11-e1dba7278c9b",
   "metadata": {},
   "outputs": [],
   "source": [
    "for df in [finhaltliche_ausgestaltung, fma_inhaltliche_ausgestaltung, fmi_inhaltliche_ausgestaltung, fma1_inhaltliche_ausgestaltung, fma2_inhaltliche_ausgestaltung, fmi1_inhaltliche_ausgestaltung, fmi2_inhaltliche_ausgestaltung]:\n",
    "    if wilcoxon(list(ainhaltliche_ausgestaltung['test_qwk']), list(df['test_qwk']), alternative='less').pvalue < 0.05:\n",
    "        print(df['test_qwk'].mean(), wilcoxon(list(ainhaltliche_ausgestaltung['test_qwk']), list(df['test_qwk']), alternative='less').pvalue)"
   ]
  },
  {
   "cell_type": "code",
   "execution_count": 71,
   "id": "c3ebbd8f-c2ee-4e50-93ef-b296735154a5",
   "metadata": {},
   "outputs": [],
   "source": [
    "for df in [ftextstruktur, fma_textstruktur, fmi_textstruktur, fma1_textstruktur, fma2_textstruktur, fmi1_textstruktur, fmi2_textstruktur]:\n",
    "    if wilcoxon(list(atextstruktur['test_qwk']), list(df['test_qwk']), alternative='less').pvalue < 0.05:\n",
    "        print(df['test_qwk'].mean(), wilcoxon(list(atextstruktur['test_qwk']), list(df['test_qwk']), alternative='less').pvalue)"
   ]
  },
  {
   "cell_type": "code",
   "execution_count": 72,
   "id": "720f407c-0515-461d-b557-a39e87443357",
   "metadata": {},
   "outputs": [],
   "source": [
    "for df in [fsprachliche_ausgestaltung, fma_sprachliche_ausgestaltung, fmi_sprachliche_ausgestaltung, fma1_sprachliche_ausgestaltung, fma2_sprachliche_ausgestaltung, fmi1_sprachliche_ausgestaltung, fmi2_sprachliche_ausgestaltung]:\n",
    "    if wilcoxon(list(asprachliche_ausgestaltung['test_qwk']), list(df['test_qwk']), alternative='less').pvalue < 0.05:\n",
    "        print(df['test_qwk'].mean(), wilcoxon(list(asprachliche_ausgestaltung['test_qwk']), list(df['test_qwk']), alternative='less').pvalue)"
   ]
  },
  {
   "cell_type": "code",
   "execution_count": 73,
   "id": "f3c8b924-4a63-4bec-952f-1e319f6c5f82",
   "metadata": {},
   "outputs": [
    {
     "name": "stdout",
     "output_type": "stream",
     "text": [
      "0.6863878495364185 0.03125\n"
     ]
    }
   ],
   "source": [
    "for df in [fgesamteindruck, fma_gesamteindruck, fmi_gesamteindruck, fma1_gesamteindruck, fma2_gesamteindruck, fmi1_gesamteindruck, fmi2_gesamteindruck]:\n",
    "    if wilcoxon(list(gesamteindruck['test_qwk']), list(df['test_qwk']), alternative='less').pvalue < 0.05:\n",
    "        print(df['test_qwk'].mean(), wilcoxon(list(gesamteindruck['test_qwk']), list(df['test_qwk']), alternative='less').pvalue)"
   ]
  },
  {
   "cell_type": "markdown",
   "id": "35e1d4c2-b1e2-4740-81d0-fd71e1fa3da9",
   "metadata": {},
   "source": [
    "p-value < 0.05 --> we reject the null hypothesis at a confidence level of 0.03125, concluding that there is a difference in height between the groups. "
   ]
  },
  {
   "cell_type": "code",
   "execution_count": null,
   "id": "c9dcc319-c5fd-4a15-a87f-c044baec8804",
   "metadata": {},
   "outputs": [],
   "source": []
  }
 ],
 "metadata": {
  "kernelspec": {
   "display_name": "prog",
   "language": "python",
   "name": "prog"
  },
  "language_info": {
   "codemirror_mode": {
    "name": "ipython",
    "version": 3
   },
   "file_extension": ".py",
   "mimetype": "text/x-python",
   "name": "python",
   "nbconvert_exporter": "python",
   "pygments_lexer": "ipython3",
   "version": "3.7.12"
  },
  "toc-showtags": false
 },
 "nbformat": 4,
 "nbformat_minor": 5
}
