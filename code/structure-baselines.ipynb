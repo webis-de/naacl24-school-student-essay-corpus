{
 "cells": [
  {
   "cell_type": "code",
   "execution_count": 1,
   "id": "019fe415-5c63-4c5b-8a6a-5e93b5faa4bb",
   "metadata": {},
   "outputs": [],
   "source": [
    "%load_ext autoreload\n",
    "%autoreload 2"
   ]
  },
  {
   "cell_type": "code",
   "execution_count": 2,
   "id": "2def309f-99f9-4a34-b06c-dfd3478a62f2",
   "metadata": {},
   "outputs": [],
   "source": [
    "import evaluate\n",
    "import torch\n",
    "import random\n",
    "import numpy as np\n",
    "import pandas as pd\n",
    "from IPython.display import display\n",
    "pd.options.display.max_columns = None\n",
    "from sklearn.dummy import DummyClassifier\n",
    "from tqdm import tqdm\n",
    "from datasets import Dataset\n",
    "from collections import Counter\n",
    "from transformers import set_seed, AutoTokenizer, DebertaForTokenClassification, TrainingArguments, Trainer, DataCollatorForTokenClassification"
   ]
  },
  {
   "cell_type": "code",
   "execution_count": 3,
   "id": "934db8b9-870a-4c77-a0fa-871a148e24ff",
   "metadata": {},
   "outputs": [],
   "source": [
    "import os\n",
    "os.environ['CUDA_LAUNCH_BLOCKING'] = \"1\"\n",
    "os.environ['TRANSFORMERS_NO_ADVISORY_WARNINGS'] = 'true'"
   ]
  },
  {
   "cell_type": "code",
   "execution_count": 4,
   "id": "df994201-c82d-4c75-aa19-7cc012711b49",
   "metadata": {},
   "outputs": [],
   "source": [
    "from const import *\n",
    "from utils import *"
   ]
  },
  {
   "cell_type": "code",
   "execution_count": 5,
   "id": "8026961d-a7c6-4883-bac8-8888b7c56095",
   "metadata": {},
   "outputs": [
    {
     "name": "stderr",
     "output_type": "stream",
     "text": [
      "Using the latest cached version of the module from /home/nhwpstam/.cache/huggingface/modules/evaluate_modules/metrics/evaluate-metric--seqeval/541ae017dc683f85116597d48f621abc7b21b88dc42ec937c71af5415f0af63c (last modified on Wed Jul  5 16:55:09 2023) since it couldn't be found locally at evaluate-metric--seqeval, or remotely on the Hugging Face Hub.\n"
     ]
    }
   ],
   "source": [
    "seqeval = evaluate.load(\"seqeval\")"
   ]
  },
  {
   "cell_type": "markdown",
   "id": "653d2af6-7d5e-4e19-a520-c94a8d4c79cc",
   "metadata": {},
   "source": [
    "# prepare"
   ]
  },
  {
   "cell_type": "code",
   "execution_count": 6,
   "id": "8c356d5f-ce3c-4c88-a759-bb4cddccf64e",
   "metadata": {},
   "outputs": [],
   "source": [
    "def compute_metrics(predictions, labels):\n",
    "    true_predictions = [[list(label2id.keys())[p] for (p, l) in zip(prediction, label) if l != -100] for prediction, label in zip(predictions, labels)]\n",
    "    true_labels = [[list(label2id.keys())[l] for (p, l) in zip(prediction, label) if l != -100] for prediction, label in zip(predictions, labels)]\n",
    "\n",
    "    results = seqeval.compute(predictions=true_predictions, references=true_labels, scheme='IOB2')\n",
    "    return results"
   ]
  },
  {
   "cell_type": "code",
   "execution_count": 7,
   "id": "b68d9e39-5db6-4322-813f-7f8a49689c3c",
   "metadata": {
    "tags": []
   },
   "outputs": [],
   "source": [
    "def majority_predict(y_train, y_val):\n",
    "    y_train_flat = [item for sublist in y_train for item in sublist]\n",
    "    majority = Counter(y_train_flat).most_common(1)[0][0]\n",
    "    maj_preds = []\n",
    "    for elem in y_val:\n",
    "        maj_preds.append([majority]*(len(elem))) #[majority-1]+[majority]*(len(elem)-1))\n",
    "    \n",
    "    return maj_preds"
   ]
  },
  {
   "cell_type": "code",
   "execution_count": 8,
   "id": "73b414fd-2470-4e36-b5f5-b274b3c0ca0a",
   "metadata": {
    "tags": []
   },
   "outputs": [],
   "source": [
    "def random_predict(y_train, y_val, seed=97):\n",
    "    random.seed(seed)\n",
    "    values = sorted(list(set([item for sublist in y_train for item in sublist])))    \n",
    "    rand_preds = []\n",
    "    for instance in y_val:\n",
    "        rand_instance = []\n",
    "        for elem in instance:\n",
    "            rand_instance.append(random.choice(values))\n",
    "        rand_preds.append(rand_instance)\n",
    "    \n",
    "    return rand_preds"
   ]
  },
  {
   "cell_type": "code",
   "execution_count": 9,
   "id": "0c81cfc5-55a7-4acf-9e78-9072f56a0a48",
   "metadata": {
    "scrolled": true,
    "tags": []
   },
   "outputs": [
    {
     "name": "stderr",
     "output_type": "stream",
     "text": [
      "  0%|          | 0/4 [00:00<?, ?it/s]"
     ]
    },
    {
     "data": {
      "application/vnd.jupyter.widget-view+json": {
       "model_id": "0185772b885d4276895ef833af4cd899",
       "version_major": 2,
       "version_minor": 0
      },
      "text/plain": [
       "Filter:   0%|          | 0/1320 [00:00<?, ? examples/s]"
      ]
     },
     "metadata": {},
     "output_type": "display_data"
    },
    {
     "data": {
      "application/vnd.jupyter.widget-view+json": {
       "model_id": "59e4a5e9010146cdb7f54af2da7e20a0",
       "version_major": 2,
       "version_minor": 0
      },
      "text/plain": [
       "Filter:   0%|          | 0/1320 [00:00<?, ? examples/s]"
      ]
     },
     "metadata": {},
     "output_type": "display_data"
    },
    {
     "name": "stderr",
     "output_type": "stream",
     "text": [
      "/bigwork/nhwpstam/.conda/envs/prog/lib/python3.7/site-packages/seqeval/metrics/v1.py:57: UndefinedMetricWarning: Precision and F-score are ill-defined and being set to 0.0 in labels with no predicted samples. Use `zero_division` parameter to control this behavior.\n",
      "  _warn_prf(average, modifier, msg_start, len(result))\n"
     ]
    },
    {
     "data": {
      "application/vnd.jupyter.widget-view+json": {
       "model_id": "b2b566814dff4e0f829681f65f141114",
       "version_major": 2,
       "version_minor": 0
      },
      "text/plain": [
       "Filter:   0%|          | 0/1320 [00:00<?, ? examples/s]"
      ]
     },
     "metadata": {},
     "output_type": "display_data"
    },
    {
     "data": {
      "application/vnd.jupyter.widget-view+json": {
       "model_id": "192e3323855342258760aaffb44ab5dc",
       "version_major": 2,
       "version_minor": 0
      },
      "text/plain": [
       "Filter:   0%|          | 0/1320 [00:00<?, ? examples/s]"
      ]
     },
     "metadata": {},
     "output_type": "display_data"
    },
    {
     "data": {
      "application/vnd.jupyter.widget-view+json": {
       "model_id": "afdc581341ea48b484fb8a8c2fa66e25",
       "version_major": 2,
       "version_minor": 0
      },
      "text/plain": [
       "Filter:   0%|          | 0/1320 [00:00<?, ? examples/s]"
      ]
     },
     "metadata": {},
     "output_type": "display_data"
    },
    {
     "data": {
      "application/vnd.jupyter.widget-view+json": {
       "model_id": "23fb207c076c4a7186324650ee4c4a4e",
       "version_major": 2,
       "version_minor": 0
      },
      "text/plain": [
       "Filter:   0%|          | 0/1320 [00:00<?, ? examples/s]"
      ]
     },
     "metadata": {},
     "output_type": "display_data"
    },
    {
     "data": {
      "application/vnd.jupyter.widget-view+json": {
       "model_id": "b4c5fa1993d54b4a891351cebbb88409",
       "version_major": 2,
       "version_minor": 0
      },
      "text/plain": [
       "Filter:   0%|          | 0/1320 [00:00<?, ? examples/s]"
      ]
     },
     "metadata": {},
     "output_type": "display_data"
    },
    {
     "data": {
      "application/vnd.jupyter.widget-view+json": {
       "model_id": "0694d150fdde494782f9c55e447f1a06",
       "version_major": 2,
       "version_minor": 0
      },
      "text/plain": [
       "Filter:   0%|          | 0/1320 [00:00<?, ? examples/s]"
      ]
     },
     "metadata": {},
     "output_type": "display_data"
    },
    {
     "data": {
      "application/vnd.jupyter.widget-view+json": {
       "model_id": "f89ba4487a3a40c1bc717f03dbf8241a",
       "version_major": 2,
       "version_minor": 0
      },
      "text/plain": [
       "Filter:   0%|          | 0/1320 [00:00<?, ? examples/s]"
      ]
     },
     "metadata": {},
     "output_type": "display_data"
    },
    {
     "data": {
      "application/vnd.jupyter.widget-view+json": {
       "model_id": "81b89ddc7ddf470595686005071f57af",
       "version_major": 2,
       "version_minor": 0
      },
      "text/plain": [
       "Filter:   0%|          | 0/1320 [00:00<?, ? examples/s]"
      ]
     },
     "metadata": {},
     "output_type": "display_data"
    },
    {
     "name": "stderr",
     "output_type": "stream",
     "text": [
      " 25%|██▌       | 1/4 [00:05<00:15,  5.13s/it]"
     ]
    },
    {
     "data": {
      "application/vnd.jupyter.widget-view+json": {
       "model_id": "8f5dc609c3b94d92b2ba9350f5fb3808",
       "version_major": 2,
       "version_minor": 0
      },
      "text/plain": [
       "Filter:   0%|          | 0/1320 [00:00<?, ? examples/s]"
      ]
     },
     "metadata": {},
     "output_type": "display_data"
    },
    {
     "data": {
      "application/vnd.jupyter.widget-view+json": {
       "model_id": "f5faa7494038416798c37874069025db",
       "version_major": 2,
       "version_minor": 0
      },
      "text/plain": [
       "Filter:   0%|          | 0/1320 [00:00<?, ? examples/s]"
      ]
     },
     "metadata": {},
     "output_type": "display_data"
    },
    {
     "data": {
      "application/vnd.jupyter.widget-view+json": {
       "model_id": "13ebf9b6c6a14aeab75506f4ec443a51",
       "version_major": 2,
       "version_minor": 0
      },
      "text/plain": [
       "Filter:   0%|          | 0/1320 [00:00<?, ? examples/s]"
      ]
     },
     "metadata": {},
     "output_type": "display_data"
    },
    {
     "data": {
      "application/vnd.jupyter.widget-view+json": {
       "model_id": "c5767908301940b0976faafb2c701cf6",
       "version_major": 2,
       "version_minor": 0
      },
      "text/plain": [
       "Filter:   0%|          | 0/1320 [00:00<?, ? examples/s]"
      ]
     },
     "metadata": {},
     "output_type": "display_data"
    },
    {
     "data": {
      "application/vnd.jupyter.widget-view+json": {
       "model_id": "b727d9f4a213431f9778191acbd5671b",
       "version_major": 2,
       "version_minor": 0
      },
      "text/plain": [
       "Filter:   0%|          | 0/1320 [00:00<?, ? examples/s]"
      ]
     },
     "metadata": {},
     "output_type": "display_data"
    },
    {
     "data": {
      "application/vnd.jupyter.widget-view+json": {
       "model_id": "94821cb12fa142118aa9665826d33211",
       "version_major": 2,
       "version_minor": 0
      },
      "text/plain": [
       "Filter:   0%|          | 0/1320 [00:00<?, ? examples/s]"
      ]
     },
     "metadata": {},
     "output_type": "display_data"
    },
    {
     "data": {
      "application/vnd.jupyter.widget-view+json": {
       "model_id": "e27034a9d05746c881d29d74b05f1c10",
       "version_major": 2,
       "version_minor": 0
      },
      "text/plain": [
       "Filter:   0%|          | 0/1320 [00:00<?, ? examples/s]"
      ]
     },
     "metadata": {},
     "output_type": "display_data"
    },
    {
     "data": {
      "application/vnd.jupyter.widget-view+json": {
       "model_id": "ea4ce8443ea84d17b67262a17274cd81",
       "version_major": 2,
       "version_minor": 0
      },
      "text/plain": [
       "Filter:   0%|          | 0/1320 [00:00<?, ? examples/s]"
      ]
     },
     "metadata": {},
     "output_type": "display_data"
    },
    {
     "data": {
      "application/vnd.jupyter.widget-view+json": {
       "model_id": "6f0846756dac46ea9a0d32078b16ad72",
       "version_major": 2,
       "version_minor": 0
      },
      "text/plain": [
       "Filter:   0%|          | 0/1320 [00:00<?, ? examples/s]"
      ]
     },
     "metadata": {},
     "output_type": "display_data"
    },
    {
     "data": {
      "application/vnd.jupyter.widget-view+json": {
       "model_id": "6b7b58eb7e384a889da34e396a042597",
       "version_major": 2,
       "version_minor": 0
      },
      "text/plain": [
       "Filter:   0%|          | 0/1320 [00:00<?, ? examples/s]"
      ]
     },
     "metadata": {},
     "output_type": "display_data"
    },
    {
     "name": "stderr",
     "output_type": "stream",
     "text": [
      " 50%|█████     | 2/4 [00:10<00:10,  5.09s/it]"
     ]
    },
    {
     "data": {
      "application/vnd.jupyter.widget-view+json": {
       "model_id": "15cca661ce284adb84fcd8a50a2733b3",
       "version_major": 2,
       "version_minor": 0
      },
      "text/plain": [
       "Filter:   0%|          | 0/1320 [00:00<?, ? examples/s]"
      ]
     },
     "metadata": {},
     "output_type": "display_data"
    },
    {
     "data": {
      "application/vnd.jupyter.widget-view+json": {
       "model_id": "30fdc125b0364b3485c30ef41fe106aa",
       "version_major": 2,
       "version_minor": 0
      },
      "text/plain": [
       "Filter:   0%|          | 0/1320 [00:00<?, ? examples/s]"
      ]
     },
     "metadata": {},
     "output_type": "display_data"
    },
    {
     "name": "stderr",
     "output_type": "stream",
     "text": [
      "/bigwork/nhwpstam/.conda/envs/prog/lib/python3.7/site-packages/seqeval/metrics/v1.py:57: UndefinedMetricWarning: Recall and F-score are ill-defined and being set to 0.0 in labels with no true samples. Use `zero_division` parameter to control this behavior.\n",
      "  _warn_prf(average, modifier, msg_start, len(result))\n"
     ]
    },
    {
     "data": {
      "application/vnd.jupyter.widget-view+json": {
       "model_id": "fbedbb6d40f643c2a33727ddd02a6290",
       "version_major": 2,
       "version_minor": 0
      },
      "text/plain": [
       "Filter:   0%|          | 0/1320 [00:00<?, ? examples/s]"
      ]
     },
     "metadata": {},
     "output_type": "display_data"
    },
    {
     "data": {
      "application/vnd.jupyter.widget-view+json": {
       "model_id": "18f0529a578e4bf8883c80cc84a240fd",
       "version_major": 2,
       "version_minor": 0
      },
      "text/plain": [
       "Filter:   0%|          | 0/1320 [00:00<?, ? examples/s]"
      ]
     },
     "metadata": {},
     "output_type": "display_data"
    },
    {
     "data": {
      "application/vnd.jupyter.widget-view+json": {
       "model_id": "f2a63be8cf9f42838ce656d87b05ceec",
       "version_major": 2,
       "version_minor": 0
      },
      "text/plain": [
       "Filter:   0%|          | 0/1320 [00:00<?, ? examples/s]"
      ]
     },
     "metadata": {},
     "output_type": "display_data"
    },
    {
     "data": {
      "application/vnd.jupyter.widget-view+json": {
       "model_id": "09bda6ff275b40908907e9ddf25d4f4c",
       "version_major": 2,
       "version_minor": 0
      },
      "text/plain": [
       "Filter:   0%|          | 0/1320 [00:00<?, ? examples/s]"
      ]
     },
     "metadata": {},
     "output_type": "display_data"
    },
    {
     "data": {
      "application/vnd.jupyter.widget-view+json": {
       "model_id": "8b3cdb4964c648f8995289b37a7861a4",
       "version_major": 2,
       "version_minor": 0
      },
      "text/plain": [
       "Filter:   0%|          | 0/1320 [00:00<?, ? examples/s]"
      ]
     },
     "metadata": {},
     "output_type": "display_data"
    },
    {
     "data": {
      "application/vnd.jupyter.widget-view+json": {
       "model_id": "a9b5971cdb374809b72891274a3b77c1",
       "version_major": 2,
       "version_minor": 0
      },
      "text/plain": [
       "Filter:   0%|          | 0/1320 [00:00<?, ? examples/s]"
      ]
     },
     "metadata": {},
     "output_type": "display_data"
    },
    {
     "data": {
      "application/vnd.jupyter.widget-view+json": {
       "model_id": "79782f23b24041adbe5d26f98ef252bc",
       "version_major": 2,
       "version_minor": 0
      },
      "text/plain": [
       "Filter:   0%|          | 0/1320 [00:00<?, ? examples/s]"
      ]
     },
     "metadata": {},
     "output_type": "display_data"
    },
    {
     "data": {
      "application/vnd.jupyter.widget-view+json": {
       "model_id": "6247a0668c6d4207a5da7af0ec367f0f",
       "version_major": 2,
       "version_minor": 0
      },
      "text/plain": [
       "Filter:   0%|          | 0/1320 [00:00<?, ? examples/s]"
      ]
     },
     "metadata": {},
     "output_type": "display_data"
    },
    {
     "name": "stderr",
     "output_type": "stream",
     "text": [
      " 75%|███████▌  | 3/4 [00:15<00:05,  5.08s/it]"
     ]
    },
    {
     "data": {
      "application/vnd.jupyter.widget-view+json": {
       "model_id": "254c5bfe647545dab04956a754c2178c",
       "version_major": 2,
       "version_minor": 0
      },
      "text/plain": [
       "Filter:   0%|          | 0/1320 [00:00<?, ? examples/s]"
      ]
     },
     "metadata": {},
     "output_type": "display_data"
    },
    {
     "data": {
      "application/vnd.jupyter.widget-view+json": {
       "model_id": "0f6afdea4593409492c6815bf2411788",
       "version_major": 2,
       "version_minor": 0
      },
      "text/plain": [
       "Filter:   0%|          | 0/1320 [00:00<?, ? examples/s]"
      ]
     },
     "metadata": {},
     "output_type": "display_data"
    },
    {
     "data": {
      "application/vnd.jupyter.widget-view+json": {
       "model_id": "3dbfc17f63804c97bfb62b1e8ebfa799",
       "version_major": 2,
       "version_minor": 0
      },
      "text/plain": [
       "Filter:   0%|          | 0/1320 [00:00<?, ? examples/s]"
      ]
     },
     "metadata": {},
     "output_type": "display_data"
    },
    {
     "data": {
      "application/vnd.jupyter.widget-view+json": {
       "model_id": "6e2ba82e608a4e3cbd0c3cdd2dd3656c",
       "version_major": 2,
       "version_minor": 0
      },
      "text/plain": [
       "Filter:   0%|          | 0/1320 [00:00<?, ? examples/s]"
      ]
     },
     "metadata": {},
     "output_type": "display_data"
    },
    {
     "data": {
      "application/vnd.jupyter.widget-view+json": {
       "model_id": "79da06f433b54aa99e1d15839b992799",
       "version_major": 2,
       "version_minor": 0
      },
      "text/plain": [
       "Filter:   0%|          | 0/1320 [00:00<?, ? examples/s]"
      ]
     },
     "metadata": {},
     "output_type": "display_data"
    },
    {
     "data": {
      "application/vnd.jupyter.widget-view+json": {
       "model_id": "60ec2a2b7e9c48b19603c433397c0b30",
       "version_major": 2,
       "version_minor": 0
      },
      "text/plain": [
       "Filter:   0%|          | 0/1320 [00:00<?, ? examples/s]"
      ]
     },
     "metadata": {},
     "output_type": "display_data"
    },
    {
     "data": {
      "application/vnd.jupyter.widget-view+json": {
       "model_id": "3095452d8b8d4836adc463b510ec9004",
       "version_major": 2,
       "version_minor": 0
      },
      "text/plain": [
       "Filter:   0%|          | 0/1320 [00:00<?, ? examples/s]"
      ]
     },
     "metadata": {},
     "output_type": "display_data"
    },
    {
     "data": {
      "application/vnd.jupyter.widget-view+json": {
       "model_id": "e4999573becd44d28e8906d1e798474b",
       "version_major": 2,
       "version_minor": 0
      },
      "text/plain": [
       "Filter:   0%|          | 0/1320 [00:00<?, ? examples/s]"
      ]
     },
     "metadata": {},
     "output_type": "display_data"
    },
    {
     "data": {
      "application/vnd.jupyter.widget-view+json": {
       "model_id": "d8066b98dfd84c959c4b111f13c5e397",
       "version_major": 2,
       "version_minor": 0
      },
      "text/plain": [
       "Filter:   0%|          | 0/1320 [00:00<?, ? examples/s]"
      ]
     },
     "metadata": {},
     "output_type": "display_data"
    },
    {
     "data": {
      "application/vnd.jupyter.widget-view+json": {
       "model_id": "e554117f94a947969760ebbf16fa7e6d",
       "version_major": 2,
       "version_minor": 0
      },
      "text/plain": [
       "Filter:   0%|          | 0/1320 [00:00<?, ? examples/s]"
      ]
     },
     "metadata": {},
     "output_type": "display_data"
    },
    {
     "name": "stderr",
     "output_type": "stream",
     "text": [
      "100%|██████████| 4/4 [00:20<00:00,  5.04s/it]\n"
     ]
    }
   ],
   "source": [
    "majority_results = []\n",
    "random_results = []\n",
    "    \n",
    "for level in tqdm(['macro_l1', 'macro_l2', 'micro_l1', 'micro_l2']):    \n",
    "    dataset = get_dataset(None)\n",
    "    if level == 'macro_l1':\n",
    "        id2label = id2label_macro_l1\n",
    "        label2id = label2id_macro_l1\n",
    "        dataset = dataset.add_column(\"labels\", dataset['macro_l1_tags'])\n",
    "    elif level == 'macro_l2':\n",
    "        id2label = id2label_macro_l2\n",
    "        label2id = label2id_macro_l2\n",
    "        dataset = dataset.add_column(\"labels\", dataset['macro_l2_tags'])\n",
    "    elif level == 'micro_l1':\n",
    "        id2label = id2label_micro_l1\n",
    "        label2id = label2id_micro_l1\n",
    "        dataset = dataset.add_column(\"labels\", dataset['micro_l1_tags'])\n",
    "    elif level == 'micro_l2':\n",
    "        id2label = id2label_micro_l2\n",
    "        label2id = label2id_micro_l2\n",
    "        dataset = dataset.add_column(\"labels\", dataset['micro_l2_tags'])\n",
    "    else:\n",
    "        print(f'error: level {level} does not exist')\n",
    "    \n",
    "    for fold in range(0, 10, 2):\n",
    "        test_data = dataset.filter(lambda x: x[\"fold\"] == fold)\n",
    "        #val_data = dataset.filter(lambda x: x[\"fold\"] == fold+1)\n",
    "        train_data = dataset.filter(lambda x: x[\"fold\"] not in [fold, fold+1])        \n",
    "        \n",
    "        X_train = train_data['tokens']\n",
    "        X_test = test_data['tokens']\n",
    "        y_train = train_data[level + '_tags']\n",
    "        y_test = test_data[level + '_tags']\n",
    "        \n",
    "        majority_result = compute_metrics(majority_predict(y_train, y_test), y_test)      \n",
    "        majority_result['fold'] = fold\n",
    "        majority_result['level'] = level\n",
    "        majority_results.append(majority_result)\n",
    "        \n",
    "        random_result = compute_metrics(random_predict(y_train, y_test), y_test)\n",
    "        random_result['fold'] = fold\n",
    "        random_result['level'] = level\n",
    "        random_results.append(random_result)\n",
    "                "
   ]
  },
  {
   "cell_type": "code",
   "execution_count": 10,
   "id": "cf2a1d0e-0c3e-4d47-9c86-1b4f3d99de1e",
   "metadata": {},
   "outputs": [],
   "source": [
    "majority_df = pd.json_normalize(majority_results)\n",
    "random_df = pd.json_normalize(random_results)"
   ]
  },
  {
   "cell_type": "markdown",
   "id": "e2636119-9e97-4504-9531-60ad3f5fffe8",
   "metadata": {},
   "source": [
    "# majority classifier: results"
   ]
  },
  {
   "cell_type": "code",
   "execution_count": 11,
   "id": "70130483-40d3-415e-a818-a853b6d12cfc",
   "metadata": {},
   "outputs": [],
   "source": [
    "cols = ['overall_precision', 'overall_recall', 'overall_f1', 'overall_accuracy']\n",
    "cols_ma1 = cols + ['Einleitung.f1', 'Hauptteil.f1', 'Konklusion.f1']\n",
    "ma1_num = ['Einleitung.number', 'Hauptteil.number', 'Konklusion.number']\n",
    "cols_ma2 = cols + ['Argument.f1', 'Gegenargument.f1']\n",
    "ma2_num = ['Argument.number', 'Gegenargument.number']\n",
    "cols_mi1 = cols + ['Claim.f1', 'Gegenthese.f1', 'Modifizierte-These.f1', 'Premise.f1', 'Thema.f1', 'These.f1']\n",
    "mi1_num = ['Claim.number', 'Gegenthese.number', 'Modifizierte-These.number', 'Premise.number', 'Thema.number', 'These.number']\n",
    "cols_mi2 = cols + ['Abwägen.f1', 'Auffordern.f1', 'Begründen.f1', 'Beschreiben.f1', 'Einschränken.f1', 'Exemplifizieren.f1', 'Konzedieren.f1', 'Positionieren.f1', 'Referieren.f1', 'Schlussfolgern.f1']\n",
    "mi2_num = ['Abwägen.number', 'Auffordern.number', 'Begründen.number', 'Beschreiben.number', 'Einschränken.number', 'Exemplifizieren.number', 'Konzedieren.number', 'Positionieren.number', 'Referieren.number', 'Schlussfolgern.number']"
   ]
  },
  {
   "cell_type": "code",
   "execution_count": 12,
   "id": "ab153fad-4d43-4cf1-a4bf-980ef886a508",
   "metadata": {},
   "outputs": [
    {
     "data": {
      "text/html": [
       "<div>\n",
       "<style scoped>\n",
       "    .dataframe tbody tr th:only-of-type {\n",
       "        vertical-align: middle;\n",
       "    }\n",
       "\n",
       "    .dataframe tbody tr th {\n",
       "        vertical-align: top;\n",
       "    }\n",
       "\n",
       "    .dataframe thead th {\n",
       "        text-align: right;\n",
       "    }\n",
       "</style>\n",
       "<table border=\"1\" class=\"dataframe\">\n",
       "  <thead>\n",
       "    <tr style=\"text-align: right;\">\n",
       "      <th></th>\n",
       "      <th>overall_precision</th>\n",
       "      <th>overall_recall</th>\n",
       "      <th>overall_f1</th>\n",
       "      <th>overall_accuracy</th>\n",
       "      <th>Einleitung.f1</th>\n",
       "      <th>Hauptteil.f1</th>\n",
       "      <th>Konklusion.f1</th>\n",
       "    </tr>\n",
       "  </thead>\n",
       "  <tbody>\n",
       "    <tr>\n",
       "      <th>mean</th>\n",
       "      <td>0.569697</td>\n",
       "      <td>0.469253</td>\n",
       "      <td>0.514581</td>\n",
       "      <td>0.859068</td>\n",
       "      <td>0.0</td>\n",
       "      <td>0.567495</td>\n",
       "      <td>0.0</td>\n",
       "    </tr>\n",
       "  </tbody>\n",
       "</table>\n",
       "</div>"
      ],
      "text/plain": [
       "      overall_precision  overall_recall  overall_f1  overall_accuracy  \\\n",
       "mean           0.569697        0.469253    0.514581          0.859068   \n",
       "\n",
       "      Einleitung.f1  Hauptteil.f1  Konklusion.f1  \n",
       "mean            0.0      0.567495            0.0  "
      ]
     },
     "execution_count": 12,
     "metadata": {},
     "output_type": "execute_result"
    }
   ],
   "source": [
    "majority_df[majority_df.level == 'macro_l1'][cols_ma1].describe()[1:2]"
   ]
  },
  {
   "cell_type": "code",
   "execution_count": 18,
   "id": "064576d5-4c9c-4248-bc95-ce558fe158e5",
   "metadata": {},
   "outputs": [
    {
     "data": {
      "text/html": [
       "<div>\n",
       "<style scoped>\n",
       "    .dataframe tbody tr th:only-of-type {\n",
       "        vertical-align: middle;\n",
       "    }\n",
       "\n",
       "    .dataframe tbody tr th {\n",
       "        vertical-align: top;\n",
       "    }\n",
       "\n",
       "    .dataframe thead th {\n",
       "        text-align: right;\n",
       "    }\n",
       "</style>\n",
       "<table border=\"1\" class=\"dataframe\">\n",
       "  <thead>\n",
       "    <tr style=\"text-align: right;\">\n",
       "      <th></th>\n",
       "      <th>overall_precision</th>\n",
       "      <th>overall_recall</th>\n",
       "      <th>overall_f1</th>\n",
       "      <th>overall_accuracy</th>\n",
       "      <th>Argument.f1</th>\n",
       "      <th>Gegenargument.f1</th>\n",
       "    </tr>\n",
       "  </thead>\n",
       "  <tbody>\n",
       "    <tr>\n",
       "      <th>mean</th>\n",
       "      <td>0.00303</td>\n",
       "      <td>0.001504</td>\n",
       "      <td>0.00201</td>\n",
       "      <td>0.559866</td>\n",
       "      <td>0.00202</td>\n",
       "      <td>0.0</td>\n",
       "    </tr>\n",
       "  </tbody>\n",
       "</table>\n",
       "</div>"
      ],
      "text/plain": [
       "      overall_precision  overall_recall  overall_f1  overall_accuracy  \\\n",
       "mean            0.00303        0.001504     0.00201          0.559866   \n",
       "\n",
       "      Argument.f1  Gegenargument.f1  \n",
       "mean      0.00202               0.0  "
      ]
     },
     "execution_count": 18,
     "metadata": {},
     "output_type": "execute_result"
    }
   ],
   "source": [
    "majority_df[majority_df.level == 'macro_l2'][cols_ma2].describe()[1:2]"
   ]
  },
  {
   "cell_type": "code",
   "execution_count": 19,
   "id": "5e848c45-be0c-4634-a370-7923daadc37b",
   "metadata": {},
   "outputs": [
    {
     "data": {
      "text/html": [
       "<div>\n",
       "<style scoped>\n",
       "    .dataframe tbody tr th:only-of-type {\n",
       "        vertical-align: middle;\n",
       "    }\n",
       "\n",
       "    .dataframe tbody tr th {\n",
       "        vertical-align: top;\n",
       "    }\n",
       "\n",
       "    .dataframe thead th {\n",
       "        text-align: right;\n",
       "    }\n",
       "</style>\n",
       "<table border=\"1\" class=\"dataframe\">\n",
       "  <thead>\n",
       "    <tr style=\"text-align: right;\">\n",
       "      <th></th>\n",
       "      <th>overall_precision</th>\n",
       "      <th>overall_recall</th>\n",
       "      <th>overall_f1</th>\n",
       "      <th>overall_accuracy</th>\n",
       "      <th>Claim.f1</th>\n",
       "      <th>Gegenthese.f1</th>\n",
       "      <th>Modifizierte-These.f1</th>\n",
       "      <th>Premise.f1</th>\n",
       "      <th>Thema.f1</th>\n",
       "      <th>These.f1</th>\n",
       "    </tr>\n",
       "  </thead>\n",
       "  <tbody>\n",
       "    <tr>\n",
       "      <th>mean</th>\n",
       "      <td>0.0</td>\n",
       "      <td>0.0</td>\n",
       "      <td>0.0</td>\n",
       "      <td>0.411902</td>\n",
       "      <td>0.0</td>\n",
       "      <td>0.0</td>\n",
       "      <td>0.0</td>\n",
       "      <td>0.0</td>\n",
       "      <td>0.0</td>\n",
       "      <td>0.0</td>\n",
       "    </tr>\n",
       "  </tbody>\n",
       "</table>\n",
       "</div>"
      ],
      "text/plain": [
       "      overall_precision  overall_recall  overall_f1  overall_accuracy  \\\n",
       "mean                0.0             0.0         0.0          0.411902   \n",
       "\n",
       "      Claim.f1  Gegenthese.f1  Modifizierte-These.f1  Premise.f1  Thema.f1  \\\n",
       "mean       0.0            0.0                    0.0         0.0       0.0   \n",
       "\n",
       "      These.f1  \n",
       "mean       0.0  "
      ]
     },
     "execution_count": 19,
     "metadata": {},
     "output_type": "execute_result"
    }
   ],
   "source": [
    "majority_df[majority_df.level == 'micro_l1'][cols_mi1].describe()[1:2]"
   ]
  },
  {
   "cell_type": "code",
   "execution_count": 20,
   "id": "1920628c-0aed-4b34-a29e-7244251c1e2c",
   "metadata": {},
   "outputs": [
    {
     "data": {
      "text/html": [
       "<div>\n",
       "<style scoped>\n",
       "    .dataframe tbody tr th:only-of-type {\n",
       "        vertical-align: middle;\n",
       "    }\n",
       "\n",
       "    .dataframe tbody tr th {\n",
       "        vertical-align: top;\n",
       "    }\n",
       "\n",
       "    .dataframe thead th {\n",
       "        text-align: right;\n",
       "    }\n",
       "</style>\n",
       "<table border=\"1\" class=\"dataframe\">\n",
       "  <thead>\n",
       "    <tr style=\"text-align: right;\">\n",
       "      <th></th>\n",
       "      <th>overall_precision</th>\n",
       "      <th>overall_recall</th>\n",
       "      <th>overall_f1</th>\n",
       "      <th>overall_accuracy</th>\n",
       "      <th>Abwägen.f1</th>\n",
       "      <th>Auffordern.f1</th>\n",
       "      <th>Begründen.f1</th>\n",
       "      <th>Beschreiben.f1</th>\n",
       "      <th>Einschränken.f1</th>\n",
       "      <th>Exemplifizieren.f1</th>\n",
       "      <th>Konzedieren.f1</th>\n",
       "      <th>Positionieren.f1</th>\n",
       "      <th>Referieren.f1</th>\n",
       "      <th>Schlussfolgern.f1</th>\n",
       "    </tr>\n",
       "  </thead>\n",
       "  <tbody>\n",
       "    <tr>\n",
       "      <th>mean</th>\n",
       "      <td>0.010606</td>\n",
       "      <td>0.002268</td>\n",
       "      <td>0.003737</td>\n",
       "      <td>0.239666</td>\n",
       "      <td>0.0</td>\n",
       "      <td>0.0</td>\n",
       "      <td>0.0</td>\n",
       "      <td>0.009432</td>\n",
       "      <td>0.0</td>\n",
       "      <td>0.0</td>\n",
       "      <td>0.0</td>\n",
       "      <td>0.0</td>\n",
       "      <td>0.0</td>\n",
       "      <td>0.0</td>\n",
       "    </tr>\n",
       "  </tbody>\n",
       "</table>\n",
       "</div>"
      ],
      "text/plain": [
       "      overall_precision  overall_recall  overall_f1  overall_accuracy  \\\n",
       "mean           0.010606        0.002268    0.003737          0.239666   \n",
       "\n",
       "      Abwägen.f1  Auffordern.f1  Begründen.f1  Beschreiben.f1  \\\n",
       "mean         0.0            0.0           0.0        0.009432   \n",
       "\n",
       "      Einschränken.f1  Exemplifizieren.f1  Konzedieren.f1  Positionieren.f1  \\\n",
       "mean              0.0                 0.0             0.0               0.0   \n",
       "\n",
       "      Referieren.f1  Schlussfolgern.f1  \n",
       "mean            0.0                0.0  "
      ]
     },
     "execution_count": 20,
     "metadata": {},
     "output_type": "execute_result"
    }
   ],
   "source": [
    "majority_df[majority_df.level == 'micro_l2'][cols_mi2].describe()[1:2]"
   ]
  },
  {
   "cell_type": "markdown",
   "id": "1a475600-9c98-4c2a-baa5-96d4550c6f99",
   "metadata": {},
   "source": [
    "# random classifier: results"
   ]
  },
  {
   "cell_type": "code",
   "execution_count": 21,
   "id": "77ec676f-f813-4313-89e1-3ffad85e161e",
   "metadata": {},
   "outputs": [
    {
     "data": {
      "text/html": [
       "<div>\n",
       "<style scoped>\n",
       "    .dataframe tbody tr th:only-of-type {\n",
       "        vertical-align: middle;\n",
       "    }\n",
       "\n",
       "    .dataframe tbody tr th {\n",
       "        vertical-align: top;\n",
       "    }\n",
       "\n",
       "    .dataframe thead th {\n",
       "        text-align: right;\n",
       "    }\n",
       "</style>\n",
       "<table border=\"1\" class=\"dataframe\">\n",
       "  <thead>\n",
       "    <tr style=\"text-align: right;\">\n",
       "      <th></th>\n",
       "      <th>overall_precision</th>\n",
       "      <th>overall_recall</th>\n",
       "      <th>overall_f1</th>\n",
       "      <th>overall_accuracy</th>\n",
       "      <th>Einleitung.f1</th>\n",
       "      <th>Hauptteil.f1</th>\n",
       "      <th>Konklusion.f1</th>\n",
       "    </tr>\n",
       "  </thead>\n",
       "  <tbody>\n",
       "    <tr>\n",
       "      <th>mean</th>\n",
       "      <td>0.0</td>\n",
       "      <td>0.0</td>\n",
       "      <td>0.0</td>\n",
       "      <td>0.142895</td>\n",
       "      <td>0.0</td>\n",
       "      <td>0.0</td>\n",
       "      <td>0.0</td>\n",
       "    </tr>\n",
       "  </tbody>\n",
       "</table>\n",
       "</div>"
      ],
      "text/plain": [
       "      overall_precision  overall_recall  overall_f1  overall_accuracy  \\\n",
       "mean                0.0             0.0         0.0          0.142895   \n",
       "\n",
       "      Einleitung.f1  Hauptteil.f1  Konklusion.f1  \n",
       "mean            0.0           0.0            0.0  "
      ]
     },
     "execution_count": 21,
     "metadata": {},
     "output_type": "execute_result"
    }
   ],
   "source": [
    "random_df[random_df.level == 'macro_l1'][cols_ma1].describe()[1:2]"
   ]
  },
  {
   "cell_type": "code",
   "execution_count": 22,
   "id": "611569c3-1890-4a38-86c7-68c339eb3513",
   "metadata": {},
   "outputs": [
    {
     "data": {
      "text/html": [
       "<div>\n",
       "<style scoped>\n",
       "    .dataframe tbody tr th:only-of-type {\n",
       "        vertical-align: middle;\n",
       "    }\n",
       "\n",
       "    .dataframe tbody tr th {\n",
       "        vertical-align: top;\n",
       "    }\n",
       "\n",
       "    .dataframe thead th {\n",
       "        text-align: right;\n",
       "    }\n",
       "</style>\n",
       "<table border=\"1\" class=\"dataframe\">\n",
       "  <thead>\n",
       "    <tr style=\"text-align: right;\">\n",
       "      <th></th>\n",
       "      <th>overall_precision</th>\n",
       "      <th>overall_recall</th>\n",
       "      <th>overall_f1</th>\n",
       "      <th>overall_accuracy</th>\n",
       "      <th>Argument.f1</th>\n",
       "      <th>Gegenargument.f1</th>\n",
       "    </tr>\n",
       "  </thead>\n",
       "  <tbody>\n",
       "    <tr>\n",
       "      <th>mean</th>\n",
       "      <td>0.0</td>\n",
       "      <td>0.0</td>\n",
       "      <td>0.0</td>\n",
       "      <td>0.197735</td>\n",
       "      <td>0.0</td>\n",
       "      <td>0.0</td>\n",
       "    </tr>\n",
       "  </tbody>\n",
       "</table>\n",
       "</div>"
      ],
      "text/plain": [
       "      overall_precision  overall_recall  overall_f1  overall_accuracy  \\\n",
       "mean                0.0             0.0         0.0          0.197735   \n",
       "\n",
       "      Argument.f1  Gegenargument.f1  \n",
       "mean          0.0               0.0  "
      ]
     },
     "execution_count": 22,
     "metadata": {},
     "output_type": "execute_result"
    }
   ],
   "source": [
    "random_df[random_df.level == 'macro_l2'][cols_ma2].describe()[1:2]"
   ]
  },
  {
   "cell_type": "code",
   "execution_count": 23,
   "id": "7d121b76-ea0d-4dce-876e-0ff3d8ced0bf",
   "metadata": {},
   "outputs": [
    {
     "data": {
      "text/html": [
       "<div>\n",
       "<style scoped>\n",
       "    .dataframe tbody tr th:only-of-type {\n",
       "        vertical-align: middle;\n",
       "    }\n",
       "\n",
       "    .dataframe tbody tr th {\n",
       "        vertical-align: top;\n",
       "    }\n",
       "\n",
       "    .dataframe thead th {\n",
       "        text-align: right;\n",
       "    }\n",
       "</style>\n",
       "<table border=\"1\" class=\"dataframe\">\n",
       "  <thead>\n",
       "    <tr style=\"text-align: right;\">\n",
       "      <th></th>\n",
       "      <th>overall_precision</th>\n",
       "      <th>overall_recall</th>\n",
       "      <th>overall_f1</th>\n",
       "      <th>overall_accuracy</th>\n",
       "      <th>Claim.f1</th>\n",
       "      <th>Gegenthese.f1</th>\n",
       "      <th>Modifizierte-These.f1</th>\n",
       "      <th>Premise.f1</th>\n",
       "      <th>Thema.f1</th>\n",
       "      <th>These.f1</th>\n",
       "    </tr>\n",
       "  </thead>\n",
       "  <tbody>\n",
       "    <tr>\n",
       "      <th>mean</th>\n",
       "      <td>0.0</td>\n",
       "      <td>0.0</td>\n",
       "      <td>0.0</td>\n",
       "      <td>0.078979</td>\n",
       "      <td>0.0</td>\n",
       "      <td>0.0</td>\n",
       "      <td>0.0</td>\n",
       "      <td>0.0</td>\n",
       "      <td>0.0</td>\n",
       "      <td>0.0</td>\n",
       "    </tr>\n",
       "  </tbody>\n",
       "</table>\n",
       "</div>"
      ],
      "text/plain": [
       "      overall_precision  overall_recall  overall_f1  overall_accuracy  \\\n",
       "mean                0.0             0.0         0.0          0.078979   \n",
       "\n",
       "      Claim.f1  Gegenthese.f1  Modifizierte-These.f1  Premise.f1  Thema.f1  \\\n",
       "mean       0.0            0.0                    0.0         0.0       0.0   \n",
       "\n",
       "      These.f1  \n",
       "mean       0.0  "
      ]
     },
     "execution_count": 23,
     "metadata": {},
     "output_type": "execute_result"
    }
   ],
   "source": [
    "random_df[random_df.level == 'micro_l1'][cols_mi1].describe()[1:2]"
   ]
  },
  {
   "cell_type": "code",
   "execution_count": 24,
   "id": "4cda0b3b-345b-4364-90ee-958de1dc47a8",
   "metadata": {},
   "outputs": [
    {
     "data": {
      "text/html": [
       "<div>\n",
       "<style scoped>\n",
       "    .dataframe tbody tr th:only-of-type {\n",
       "        vertical-align: middle;\n",
       "    }\n",
       "\n",
       "    .dataframe tbody tr th {\n",
       "        vertical-align: top;\n",
       "    }\n",
       "\n",
       "    .dataframe thead th {\n",
       "        text-align: right;\n",
       "    }\n",
       "</style>\n",
       "<table border=\"1\" class=\"dataframe\">\n",
       "  <thead>\n",
       "    <tr style=\"text-align: right;\">\n",
       "      <th></th>\n",
       "      <th>overall_precision</th>\n",
       "      <th>overall_recall</th>\n",
       "      <th>overall_f1</th>\n",
       "      <th>overall_accuracy</th>\n",
       "      <th>Abwägen.f1</th>\n",
       "      <th>Auffordern.f1</th>\n",
       "      <th>Begründen.f1</th>\n",
       "      <th>Beschreiben.f1</th>\n",
       "      <th>Einschränken.f1</th>\n",
       "      <th>Exemplifizieren.f1</th>\n",
       "      <th>Konzedieren.f1</th>\n",
       "      <th>Positionieren.f1</th>\n",
       "      <th>Referieren.f1</th>\n",
       "      <th>Schlussfolgern.f1</th>\n",
       "    </tr>\n",
       "  </thead>\n",
       "  <tbody>\n",
       "    <tr>\n",
       "      <th>mean</th>\n",
       "      <td>0.0</td>\n",
       "      <td>0.0</td>\n",
       "      <td>0.0</td>\n",
       "      <td>0.044518</td>\n",
       "      <td>0.0</td>\n",
       "      <td>0.0</td>\n",
       "      <td>0.0</td>\n",
       "      <td>0.0</td>\n",
       "      <td>0.0</td>\n",
       "      <td>0.0</td>\n",
       "      <td>0.0</td>\n",
       "      <td>0.0</td>\n",
       "      <td>0.0</td>\n",
       "      <td>0.0</td>\n",
       "    </tr>\n",
       "  </tbody>\n",
       "</table>\n",
       "</div>"
      ],
      "text/plain": [
       "      overall_precision  overall_recall  overall_f1  overall_accuracy  \\\n",
       "mean                0.0             0.0         0.0          0.044518   \n",
       "\n",
       "      Abwägen.f1  Auffordern.f1  Begründen.f1  Beschreiben.f1  \\\n",
       "mean         0.0            0.0           0.0             0.0   \n",
       "\n",
       "      Einschränken.f1  Exemplifizieren.f1  Konzedieren.f1  Positionieren.f1  \\\n",
       "mean              0.0                 0.0             0.0               0.0   \n",
       "\n",
       "      Referieren.f1  Schlussfolgern.f1  \n",
       "mean            0.0                0.0  "
      ]
     },
     "execution_count": 24,
     "metadata": {},
     "output_type": "execute_result"
    }
   ],
   "source": [
    "random_df[random_df.level == 'micro_l2'][cols_mi2].describe()[1:2]"
   ]
  },
  {
   "cell_type": "markdown",
   "id": "bf8f6980-e964-40fe-875c-5d837213bf30",
   "metadata": {},
   "source": [
    "# class numbers"
   ]
  },
  {
   "cell_type": "code",
   "execution_count": 25,
   "id": "95a31883-e962-45a6-a3ff-388366c45b65",
   "metadata": {},
   "outputs": [],
   "source": [
    "ma1_num = ['Einleitung.number', 'Hauptteil.number', 'Konklusion.number']\n",
    "ma2_num = ['Argument.number', 'Gegenargument.number']\n",
    "mi1_num = ['Claim.number', 'Gegenthese.number', 'Modifizierte-These.number', 'Premise.number', 'Thema.number', 'These.number']\n",
    "mi2_num = ['Abwägen.number', 'Auffordern.number', 'Begründen.number', 'Beschreiben.number', 'Einschränken.number', 'Exemplifizieren.number', 'Konzedieren.number', 'Positionieren.number', 'Referieren.number', 'Schlussfolgern.number']\n",
    "num_cols = ma1_num + ma2_num + mi1_num + mi2_num"
   ]
  },
  {
   "cell_type": "code",
   "execution_count": 26,
   "id": "5ef8920f-c755-4955-9dba-7570d63d9b03",
   "metadata": {},
   "outputs": [
    {
     "data": {
      "text/plain": [
       "Einleitung.number     51.0\n",
       "Hauptteil.number     665.0\n",
       "Konklusion.number     86.0\n",
       "dtype: float64"
      ]
     },
     "execution_count": 26,
     "metadata": {},
     "output_type": "execute_result"
    }
   ],
   "source": [
    "random_df[random_df.level == 'macro_l1'][ma1_num].sum()"
   ]
  },
  {
   "cell_type": "code",
   "execution_count": 27,
   "id": "f58bfdab-ad95-4c7c-a1f7-98a700a41b5c",
   "metadata": {},
   "outputs": [
    {
     "data": {
      "text/plain": [
       "Argument.number         1319.0\n",
       "Gegenargument.number      16.0\n",
       "dtype: float64"
      ]
     },
     "execution_count": 27,
     "metadata": {},
     "output_type": "execute_result"
    }
   ],
   "source": [
    "random_df[random_df.level == 'macro_l2'][ma2_num].sum()"
   ]
  },
  {
   "cell_type": "code",
   "execution_count": 28,
   "id": "f98d26df-047c-4738-b9a3-2f1dba042a0c",
   "metadata": {},
   "outputs": [
    {
     "data": {
      "text/plain": [
       "Claim.number                 1532.0\n",
       "Gegenthese.number               7.0\n",
       "Modifizierte-These.number     138.0\n",
       "Premise.number                501.0\n",
       "Thema.number                   47.0\n",
       "These.number                  832.0\n",
       "dtype: float64"
      ]
     },
     "execution_count": 28,
     "metadata": {},
     "output_type": "execute_result"
    }
   ],
   "source": [
    "random_df[random_df.level == 'micro_l1'][mi1_num].sum()"
   ]
  },
  {
   "cell_type": "code",
   "execution_count": 29,
   "id": "bbebbe8e-4ceb-45a5-9d3b-e60f58117f4b",
   "metadata": {},
   "outputs": [
    {
     "data": {
      "text/plain": [
       "Abwägen.number              9.0\n",
       "Auffordern.number          76.0\n",
       "Begründen.number          755.0\n",
       "Beschreiben.number        836.0\n",
       "Einschränken.number        80.0\n",
       "Exemplifizieren.number     29.0\n",
       "Konzedieren.number         62.0\n",
       "Positionieren.number      871.0\n",
       "Referieren.number           8.0\n",
       "Schlussfolgern.number     424.0\n",
       "dtype: float64"
      ]
     },
     "execution_count": 29,
     "metadata": {},
     "output_type": "execute_result"
    }
   ],
   "source": [
    "random_df[random_df.level == 'micro_l2'][mi2_num].sum()"
   ]
  },
  {
   "cell_type": "code",
   "execution_count": null,
   "id": "ae40c9db-9013-4dcc-b1a5-7d7aa0ec3d6b",
   "metadata": {},
   "outputs": [],
   "source": []
  }
 ],
 "metadata": {
  "kernelspec": {
   "display_name": "prog",
   "language": "python",
   "name": "prog"
  },
  "language_info": {
   "codemirror_mode": {
    "name": "ipython",
    "version": 3
   },
   "file_extension": ".py",
   "mimetype": "text/x-python",
   "name": "python",
   "nbconvert_exporter": "python",
   "pygments_lexer": "ipython3",
   "version": "3.7.12"
  }
 },
 "nbformat": 4,
 "nbformat_minor": 5
}
